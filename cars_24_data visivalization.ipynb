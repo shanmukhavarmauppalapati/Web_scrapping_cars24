{
 "cells": [
  {
   "cell_type": "code",
   "execution_count": 3,
   "id": "855ab550",
   "metadata": {},
   "outputs": [],
   "source": [
    "import numpy as np\n",
    "import pandas as pd\n",
    "import matplotlib.pyplot as plt\n",
    "import seaborn as sns\n",
    "%matplotlib inline"
   ]
  },
  {
   "cell_type": "code",
   "execution_count": 4,
   "id": "7f7623b9",
   "metadata": {},
   "outputs": [],
   "source": [
    "data=pd.read_csv(\"Cars_24.csv\")"
   ]
  },
  {
   "cell_type": "code",
   "execution_count": 5,
   "id": "dcdd0b09",
   "metadata": {},
   "outputs": [
    {
     "data": {
      "text/html": [
       "<div>\n",
       "<style scoped>\n",
       "    .dataframe tbody tr th:only-of-type {\n",
       "        vertical-align: middle;\n",
       "    }\n",
       "\n",
       "    .dataframe tbody tr th {\n",
       "        vertical-align: top;\n",
       "    }\n",
       "\n",
       "    .dataframe thead th {\n",
       "        text-align: right;\n",
       "    }\n",
       "</style>\n",
       "<table border=\"1\" class=\"dataframe\">\n",
       "  <thead>\n",
       "    <tr style=\"text-align: right;\">\n",
       "      <th></th>\n",
       "      <th>Unnamed: 0.1</th>\n",
       "      <th>Unnamed: 0</th>\n",
       "      <th>name</th>\n",
       "      <th>price</th>\n",
       "      <th>var_1</th>\n",
       "      <th>model</th>\n",
       "      <th>names</th>\n",
       "      <th>year</th>\n",
       "      <th>emi</th>\n",
       "    </tr>\n",
       "  </thead>\n",
       "  <tbody>\n",
       "    <tr>\n",
       "      <th>0</th>\n",
       "      <td>0</td>\n",
       "      <td>0</td>\n",
       "      <td>2010 Maruti Swift Dzire</td>\n",
       "      <td>₹5,011/month₹2,56,299</td>\n",
       "      <td>29,667 km1st OwnerPetrolDL-7C</td>\n",
       "      <td>VXI Manual</td>\n",
       "      <td>Maruti Swift Dzire</td>\n",
       "      <td>2010</td>\n",
       "      <td>5011</td>\n",
       "    </tr>\n",
       "    <tr>\n",
       "      <th>1</th>\n",
       "      <td>1</td>\n",
       "      <td>1</td>\n",
       "      <td>2018 Hyundai Grand i10</td>\n",
       "      <td>₹10,295/month₹5,26,599</td>\n",
       "      <td>6,875 km2nd OwnerPetrolUP-16</td>\n",
       "      <td>SPORTZ 1.2 KAPPA VTVT Manual</td>\n",
       "      <td>Hyundai Grand i10</td>\n",
       "      <td>2018</td>\n",
       "      <td>10295</td>\n",
       "    </tr>\n",
       "    <tr>\n",
       "      <th>2</th>\n",
       "      <td>2</td>\n",
       "      <td>2</td>\n",
       "      <td>2013 Maruti Wagon R 1.0</td>\n",
       "      <td>₹5,290/month₹2,70,599</td>\n",
       "      <td>35,519 km1st OwnerPetrolDL-13</td>\n",
       "      <td>VXI Manual</td>\n",
       "      <td>Maruti Wagon R 1.0</td>\n",
       "      <td>2013</td>\n",
       "      <td>5290</td>\n",
       "    </tr>\n",
       "    <tr>\n",
       "      <th>3</th>\n",
       "      <td>3</td>\n",
       "      <td>3</td>\n",
       "      <td>2018 Datsun Redi Go</td>\n",
       "      <td>₹4,585/month₹2,34,499</td>\n",
       "      <td>15,968 km1st OwnerPetrolHR-50</td>\n",
       "      <td>D Manual</td>\n",
       "      <td>Datsun Redi Go</td>\n",
       "      <td>2018</td>\n",
       "      <td>4585</td>\n",
       "    </tr>\n",
       "    <tr>\n",
       "      <th>4</th>\n",
       "      <td>4</td>\n",
       "      <td>4</td>\n",
       "      <td>2020 Maruti Swift</td>\n",
       "      <td>₹11,075/month₹5,66,499</td>\n",
       "      <td>16,633 km2nd OwnerPetrolHR-51</td>\n",
       "      <td>LXI Manual</td>\n",
       "      <td>Maruti Swift</td>\n",
       "      <td>2020</td>\n",
       "      <td>11075</td>\n",
       "    </tr>\n",
       "    <tr>\n",
       "      <th>...</th>\n",
       "      <td>...</td>\n",
       "      <td>...</td>\n",
       "      <td>...</td>\n",
       "      <td>...</td>\n",
       "      <td>...</td>\n",
       "      <td>...</td>\n",
       "      <td>...</td>\n",
       "      <td>...</td>\n",
       "      <td>...</td>\n",
       "    </tr>\n",
       "    <tr>\n",
       "      <th>335</th>\n",
       "      <td>335</td>\n",
       "      <td>335</td>\n",
       "      <td>2019 Honda Brio</td>\n",
       "      <td>₹9,144/month₹4,67,699</td>\n",
       "      <td>28,546 km2nd OwnerPetrolRJ-45</td>\n",
       "      <td>1.2 S (O) MT IVTEC Manual</td>\n",
       "      <td>Honda Brio</td>\n",
       "      <td>2019</td>\n",
       "      <td>9144</td>\n",
       "    </tr>\n",
       "    <tr>\n",
       "      <th>336</th>\n",
       "      <td>336</td>\n",
       "      <td>336</td>\n",
       "      <td>2018 Renault Kwid</td>\n",
       "      <td>₹5,955/month₹3,04,599</td>\n",
       "      <td>31,816 km1st OwnerPetrolRJ-32</td>\n",
       "      <td>RXL Manual</td>\n",
       "      <td>Renault Kwid</td>\n",
       "      <td>2018</td>\n",
       "      <td>5955</td>\n",
       "    </tr>\n",
       "    <tr>\n",
       "      <th>337</th>\n",
       "      <td>337</td>\n",
       "      <td>337</td>\n",
       "      <td>2015 Hyundai Grand i10</td>\n",
       "      <td>₹7,769/month₹3,97,399</td>\n",
       "      <td>75,389 km2nd OwnerDieselRJ-14</td>\n",
       "      <td>ASTA 1.1 CRDI Manual</td>\n",
       "      <td>Hyundai Grand i10</td>\n",
       "      <td>2015</td>\n",
       "      <td>7769</td>\n",
       "    </tr>\n",
       "    <tr>\n",
       "      <th>338</th>\n",
       "      <td>338</td>\n",
       "      <td>338</td>\n",
       "      <td>2015 Mahindra XUV500</td>\n",
       "      <td>₹14,989/month₹7,66,699</td>\n",
       "      <td>95,615 km2nd OwnerDieselRJ-14</td>\n",
       "      <td>W8 FWD Manual</td>\n",
       "      <td>Mahindra XUV500</td>\n",
       "      <td>2015</td>\n",
       "      <td>14989</td>\n",
       "    </tr>\n",
       "    <tr>\n",
       "      <th>339</th>\n",
       "      <td>339</td>\n",
       "      <td>339</td>\n",
       "      <td>2018 Maruti Swift</td>\n",
       "      <td>₹11,675/month₹5,97,199</td>\n",
       "      <td>83,770 km1st OwnerPetrolRJ-02</td>\n",
       "      <td>VXI Manual</td>\n",
       "      <td>Maruti Swift</td>\n",
       "      <td>2018</td>\n",
       "      <td>11675</td>\n",
       "    </tr>\n",
       "  </tbody>\n",
       "</table>\n",
       "<p>340 rows × 9 columns</p>\n",
       "</div>"
      ],
      "text/plain": [
       "     Unnamed: 0.1  Unnamed: 0                     name  \\\n",
       "0               0           0  2010 Maruti Swift Dzire   \n",
       "1               1           1   2018 Hyundai Grand i10   \n",
       "2               2           2  2013 Maruti Wagon R 1.0   \n",
       "3               3           3      2018 Datsun Redi Go   \n",
       "4               4           4        2020 Maruti Swift   \n",
       "..            ...         ...                      ...   \n",
       "335           335         335          2019 Honda Brio   \n",
       "336           336         336        2018 Renault Kwid   \n",
       "337           337         337   2015 Hyundai Grand i10   \n",
       "338           338         338     2015 Mahindra XUV500   \n",
       "339           339         339        2018 Maruti Swift   \n",
       "\n",
       "                      price                          var_1  \\\n",
       "0     ₹5,011/month₹2,56,299  29,667 km1st OwnerPetrolDL-7C   \n",
       "1    ₹10,295/month₹5,26,599   6,875 km2nd OwnerPetrolUP-16   \n",
       "2     ₹5,290/month₹2,70,599  35,519 km1st OwnerPetrolDL-13   \n",
       "3     ₹4,585/month₹2,34,499  15,968 km1st OwnerPetrolHR-50   \n",
       "4    ₹11,075/month₹5,66,499  16,633 km2nd OwnerPetrolHR-51   \n",
       "..                      ...                            ...   \n",
       "335   ₹9,144/month₹4,67,699  28,546 km2nd OwnerPetrolRJ-45   \n",
       "336   ₹5,955/month₹3,04,599  31,816 km1st OwnerPetrolRJ-32   \n",
       "337   ₹7,769/month₹3,97,399  75,389 km2nd OwnerDieselRJ-14   \n",
       "338  ₹14,989/month₹7,66,699  95,615 km2nd OwnerDieselRJ-14   \n",
       "339  ₹11,675/month₹5,97,199  83,770 km1st OwnerPetrolRJ-02   \n",
       "\n",
       "                            model               names  year    emi  \n",
       "0                      VXI Manual  Maruti Swift Dzire  2010   5011  \n",
       "1    SPORTZ 1.2 KAPPA VTVT Manual   Hyundai Grand i10  2018  10295  \n",
       "2                      VXI Manual  Maruti Wagon R 1.0  2013   5290  \n",
       "3                        D Manual      Datsun Redi Go  2018   4585  \n",
       "4                      LXI Manual        Maruti Swift  2020  11075  \n",
       "..                            ...                 ...   ...    ...  \n",
       "335     1.2 S (O) MT IVTEC Manual          Honda Brio  2019   9144  \n",
       "336                    RXL Manual        Renault Kwid  2018   5955  \n",
       "337          ASTA 1.1 CRDI Manual   Hyundai Grand i10  2015   7769  \n",
       "338                 W8 FWD Manual     Mahindra XUV500  2015  14989  \n",
       "339                    VXI Manual        Maruti Swift  2018  11675  \n",
       "\n",
       "[340 rows x 9 columns]"
      ]
     },
     "execution_count": 5,
     "metadata": {},
     "output_type": "execute_result"
    }
   ],
   "source": [
    "data # print the data after cleaning "
   ]
  },
  {
   "cell_type": "code",
   "execution_count": 1,
   "id": "83bcadbd",
   "metadata": {},
   "outputs": [],
   "source": [
    "import os"
   ]
  },
  {
   "cell_type": "code",
   "execution_count": 2,
   "id": "dc111c18",
   "metadata": {},
   "outputs": [
    {
     "data": {
      "text/plain": [
       "'C:\\\\Users\\\\shanmukha varma'"
      ]
     },
     "execution_count": 2,
     "metadata": {},
     "output_type": "execute_result"
    }
   ],
   "source": [
    "os.getcwd()"
   ]
  },
  {
   "cell_type": "code",
   "execution_count": 6,
   "id": "df50d03a",
   "metadata": {},
   "outputs": [
    {
     "data": {
      "text/html": [
       "<div>\n",
       "<style scoped>\n",
       "    .dataframe tbody tr th:only-of-type {\n",
       "        vertical-align: middle;\n",
       "    }\n",
       "\n",
       "    .dataframe tbody tr th {\n",
       "        vertical-align: top;\n",
       "    }\n",
       "\n",
       "    .dataframe thead th {\n",
       "        text-align: right;\n",
       "    }\n",
       "</style>\n",
       "<table border=\"1\" class=\"dataframe\">\n",
       "  <thead>\n",
       "    <tr style=\"text-align: right;\">\n",
       "      <th></th>\n",
       "      <th>Unnamed: 0.1</th>\n",
       "      <th>name</th>\n",
       "      <th>price</th>\n",
       "      <th>var_1</th>\n",
       "      <th>model</th>\n",
       "      <th>names</th>\n",
       "      <th>year</th>\n",
       "      <th>emi</th>\n",
       "    </tr>\n",
       "  </thead>\n",
       "  <tbody>\n",
       "    <tr>\n",
       "      <th>0</th>\n",
       "      <td>0</td>\n",
       "      <td>2010 Maruti Swift Dzire</td>\n",
       "      <td>₹5,011/month₹2,56,299</td>\n",
       "      <td>29,667 km1st OwnerPetrolDL-7C</td>\n",
       "      <td>VXI Manual</td>\n",
       "      <td>Maruti Swift Dzire</td>\n",
       "      <td>2010</td>\n",
       "      <td>5011</td>\n",
       "    </tr>\n",
       "    <tr>\n",
       "      <th>1</th>\n",
       "      <td>1</td>\n",
       "      <td>2018 Hyundai Grand i10</td>\n",
       "      <td>₹10,295/month₹5,26,599</td>\n",
       "      <td>6,875 km2nd OwnerPetrolUP-16</td>\n",
       "      <td>SPORTZ 1.2 KAPPA VTVT Manual</td>\n",
       "      <td>Hyundai Grand i10</td>\n",
       "      <td>2018</td>\n",
       "      <td>10295</td>\n",
       "    </tr>\n",
       "    <tr>\n",
       "      <th>2</th>\n",
       "      <td>2</td>\n",
       "      <td>2013 Maruti Wagon R 1.0</td>\n",
       "      <td>₹5,290/month₹2,70,599</td>\n",
       "      <td>35,519 km1st OwnerPetrolDL-13</td>\n",
       "      <td>VXI Manual</td>\n",
       "      <td>Maruti Wagon R 1.0</td>\n",
       "      <td>2013</td>\n",
       "      <td>5290</td>\n",
       "    </tr>\n",
       "    <tr>\n",
       "      <th>3</th>\n",
       "      <td>3</td>\n",
       "      <td>2018 Datsun Redi Go</td>\n",
       "      <td>₹4,585/month₹2,34,499</td>\n",
       "      <td>15,968 km1st OwnerPetrolHR-50</td>\n",
       "      <td>D Manual</td>\n",
       "      <td>Datsun Redi Go</td>\n",
       "      <td>2018</td>\n",
       "      <td>4585</td>\n",
       "    </tr>\n",
       "    <tr>\n",
       "      <th>4</th>\n",
       "      <td>4</td>\n",
       "      <td>2020 Maruti Swift</td>\n",
       "      <td>₹11,075/month₹5,66,499</td>\n",
       "      <td>16,633 km2nd OwnerPetrolHR-51</td>\n",
       "      <td>LXI Manual</td>\n",
       "      <td>Maruti Swift</td>\n",
       "      <td>2020</td>\n",
       "      <td>11075</td>\n",
       "    </tr>\n",
       "    <tr>\n",
       "      <th>...</th>\n",
       "      <td>...</td>\n",
       "      <td>...</td>\n",
       "      <td>...</td>\n",
       "      <td>...</td>\n",
       "      <td>...</td>\n",
       "      <td>...</td>\n",
       "      <td>...</td>\n",
       "      <td>...</td>\n",
       "    </tr>\n",
       "    <tr>\n",
       "      <th>335</th>\n",
       "      <td>335</td>\n",
       "      <td>2019 Honda Brio</td>\n",
       "      <td>₹9,144/month₹4,67,699</td>\n",
       "      <td>28,546 km2nd OwnerPetrolRJ-45</td>\n",
       "      <td>1.2 S (O) MT IVTEC Manual</td>\n",
       "      <td>Honda Brio</td>\n",
       "      <td>2019</td>\n",
       "      <td>9144</td>\n",
       "    </tr>\n",
       "    <tr>\n",
       "      <th>336</th>\n",
       "      <td>336</td>\n",
       "      <td>2018 Renault Kwid</td>\n",
       "      <td>₹5,955/month₹3,04,599</td>\n",
       "      <td>31,816 km1st OwnerPetrolRJ-32</td>\n",
       "      <td>RXL Manual</td>\n",
       "      <td>Renault Kwid</td>\n",
       "      <td>2018</td>\n",
       "      <td>5955</td>\n",
       "    </tr>\n",
       "    <tr>\n",
       "      <th>337</th>\n",
       "      <td>337</td>\n",
       "      <td>2015 Hyundai Grand i10</td>\n",
       "      <td>₹7,769/month₹3,97,399</td>\n",
       "      <td>75,389 km2nd OwnerDieselRJ-14</td>\n",
       "      <td>ASTA 1.1 CRDI Manual</td>\n",
       "      <td>Hyundai Grand i10</td>\n",
       "      <td>2015</td>\n",
       "      <td>7769</td>\n",
       "    </tr>\n",
       "    <tr>\n",
       "      <th>338</th>\n",
       "      <td>338</td>\n",
       "      <td>2015 Mahindra XUV500</td>\n",
       "      <td>₹14,989/month₹7,66,699</td>\n",
       "      <td>95,615 km2nd OwnerDieselRJ-14</td>\n",
       "      <td>W8 FWD Manual</td>\n",
       "      <td>Mahindra XUV500</td>\n",
       "      <td>2015</td>\n",
       "      <td>14989</td>\n",
       "    </tr>\n",
       "    <tr>\n",
       "      <th>339</th>\n",
       "      <td>339</td>\n",
       "      <td>2018 Maruti Swift</td>\n",
       "      <td>₹11,675/month₹5,97,199</td>\n",
       "      <td>83,770 km1st OwnerPetrolRJ-02</td>\n",
       "      <td>VXI Manual</td>\n",
       "      <td>Maruti Swift</td>\n",
       "      <td>2018</td>\n",
       "      <td>11675</td>\n",
       "    </tr>\n",
       "  </tbody>\n",
       "</table>\n",
       "<p>340 rows × 8 columns</p>\n",
       "</div>"
      ],
      "text/plain": [
       "     Unnamed: 0.1                     name                   price  \\\n",
       "0               0  2010 Maruti Swift Dzire   ₹5,011/month₹2,56,299   \n",
       "1               1   2018 Hyundai Grand i10  ₹10,295/month₹5,26,599   \n",
       "2               2  2013 Maruti Wagon R 1.0   ₹5,290/month₹2,70,599   \n",
       "3               3      2018 Datsun Redi Go   ₹4,585/month₹2,34,499   \n",
       "4               4        2020 Maruti Swift  ₹11,075/month₹5,66,499   \n",
       "..            ...                      ...                     ...   \n",
       "335           335          2019 Honda Brio   ₹9,144/month₹4,67,699   \n",
       "336           336        2018 Renault Kwid   ₹5,955/month₹3,04,599   \n",
       "337           337   2015 Hyundai Grand i10   ₹7,769/month₹3,97,399   \n",
       "338           338     2015 Mahindra XUV500  ₹14,989/month₹7,66,699   \n",
       "339           339        2018 Maruti Swift  ₹11,675/month₹5,97,199   \n",
       "\n",
       "                             var_1                         model  \\\n",
       "0    29,667 km1st OwnerPetrolDL-7C                    VXI Manual   \n",
       "1     6,875 km2nd OwnerPetrolUP-16  SPORTZ 1.2 KAPPA VTVT Manual   \n",
       "2    35,519 km1st OwnerPetrolDL-13                    VXI Manual   \n",
       "3    15,968 km1st OwnerPetrolHR-50                      D Manual   \n",
       "4    16,633 km2nd OwnerPetrolHR-51                    LXI Manual   \n",
       "..                             ...                           ...   \n",
       "335  28,546 km2nd OwnerPetrolRJ-45     1.2 S (O) MT IVTEC Manual   \n",
       "336  31,816 km1st OwnerPetrolRJ-32                    RXL Manual   \n",
       "337  75,389 km2nd OwnerDieselRJ-14          ASTA 1.1 CRDI Manual   \n",
       "338  95,615 km2nd OwnerDieselRJ-14                 W8 FWD Manual   \n",
       "339  83,770 km1st OwnerPetrolRJ-02                    VXI Manual   \n",
       "\n",
       "                  names  year    emi  \n",
       "0    Maruti Swift Dzire  2010   5011  \n",
       "1     Hyundai Grand i10  2018  10295  \n",
       "2    Maruti Wagon R 1.0  2013   5290  \n",
       "3        Datsun Redi Go  2018   4585  \n",
       "4          Maruti Swift  2020  11075  \n",
       "..                  ...   ...    ...  \n",
       "335          Honda Brio  2019   9144  \n",
       "336        Renault Kwid  2018   5955  \n",
       "337   Hyundai Grand i10  2015   7769  \n",
       "338     Mahindra XUV500  2015  14989  \n",
       "339        Maruti Swift  2018  11675  \n",
       "\n",
       "[340 rows x 8 columns]"
      ]
     },
     "execution_count": 6,
     "metadata": {},
     "output_type": "execute_result"
    }
   ],
   "source": [
    "# i don't want the unnamed column so i removed that column \n",
    "data.drop(['Unnamed: 0'],axis=1,inplace=True)\n",
    "data"
   ]
  },
  {
   "cell_type": "code",
   "execution_count": 192,
   "id": "25823495",
   "metadata": {},
   "outputs": [
    {
     "data": {
      "text/html": [
       "<div>\n",
       "<style scoped>\n",
       "    .dataframe tbody tr th:only-of-type {\n",
       "        vertical-align: middle;\n",
       "    }\n",
       "\n",
       "    .dataframe tbody tr th {\n",
       "        vertical-align: top;\n",
       "    }\n",
       "\n",
       "    .dataframe thead th {\n",
       "        text-align: right;\n",
       "    }\n",
       "</style>\n",
       "<table border=\"1\" class=\"dataframe\">\n",
       "  <thead>\n",
       "    <tr style=\"text-align: right;\">\n",
       "      <th></th>\n",
       "      <th>year</th>\n",
       "      <th>kilometers_driven</th>\n",
       "      <th>emi</th>\n",
       "      <th>total price</th>\n",
       "    </tr>\n",
       "  </thead>\n",
       "  <tbody>\n",
       "    <tr>\n",
       "      <th>count</th>\n",
       "      <td>355.000000</td>\n",
       "      <td>355.000000</td>\n",
       "      <td>355.000000</td>\n",
       "      <td>3.550000e+02</td>\n",
       "    </tr>\n",
       "    <tr>\n",
       "      <th>mean</th>\n",
       "      <td>2017.264789</td>\n",
       "      <td>32726.487324</td>\n",
       "      <td>11864.898592</td>\n",
       "      <td>6.156673e+05</td>\n",
       "    </tr>\n",
       "    <tr>\n",
       "      <th>std</th>\n",
       "      <td>3.435898</td>\n",
       "      <td>27782.511835</td>\n",
       "      <td>6988.156321</td>\n",
       "      <td>3.761842e+05</td>\n",
       "    </tr>\n",
       "    <tr>\n",
       "      <th>min</th>\n",
       "      <td>2009.000000</td>\n",
       "      <td>202.000000</td>\n",
       "      <td>2991.000000</td>\n",
       "      <td>1.529990e+05</td>\n",
       "    </tr>\n",
       "    <tr>\n",
       "      <th>25%</th>\n",
       "      <td>2014.500000</td>\n",
       "      <td>11404.000000</td>\n",
       "      <td>7406.500000</td>\n",
       "      <td>3.788490e+05</td>\n",
       "    </tr>\n",
       "    <tr>\n",
       "      <th>50%</th>\n",
       "      <td>2018.000000</td>\n",
       "      <td>27071.000000</td>\n",
       "      <td>10213.000000</td>\n",
       "      <td>5.223990e+05</td>\n",
       "    </tr>\n",
       "    <tr>\n",
       "      <th>75%</th>\n",
       "      <td>2020.000000</td>\n",
       "      <td>46155.000000</td>\n",
       "      <td>13235.500000</td>\n",
       "      <td>6.770090e+05</td>\n",
       "    </tr>\n",
       "    <tr>\n",
       "      <th>max</th>\n",
       "      <td>2022.000000</td>\n",
       "      <td>242614.000000</td>\n",
       "      <td>44362.000000</td>\n",
       "      <td>2.362299e+06</td>\n",
       "    </tr>\n",
       "  </tbody>\n",
       "</table>\n",
       "</div>"
      ],
      "text/plain": [
       "              year  kilometers_driven           emi   total price\n",
       "count   355.000000         355.000000    355.000000  3.550000e+02\n",
       "mean   2017.264789       32726.487324  11864.898592  6.156673e+05\n",
       "std       3.435898       27782.511835   6988.156321  3.761842e+05\n",
       "min    2009.000000         202.000000   2991.000000  1.529990e+05\n",
       "25%    2014.500000       11404.000000   7406.500000  3.788490e+05\n",
       "50%    2018.000000       27071.000000  10213.000000  5.223990e+05\n",
       "75%    2020.000000       46155.000000  13235.500000  6.770090e+05\n",
       "max    2022.000000      242614.000000  44362.000000  2.362299e+06"
      ]
     },
     "execution_count": 192,
     "metadata": {},
     "output_type": "execute_result"
    }
   ],
   "source": [
    "data.describe() "
   ]
  },
  {
   "cell_type": "code",
   "execution_count": 5,
   "id": "2109f224",
   "metadata": {},
   "outputs": [
    {
     "data": {
      "text/plain": [
       "(400, 10)"
      ]
     },
     "execution_count": 5,
     "metadata": {},
     "output_type": "execute_result"
    }
   ],
   "source": [
    "data.shape # checking the shape of the entire dataset"
   ]
  },
  {
   "cell_type": "code",
   "execution_count": 6,
   "id": "047fd26b",
   "metadata": {},
   "outputs": [
    {
     "data": {
      "text/plain": [
       "car_brand            0\n",
       "car_model            0\n",
       "year                 0\n",
       "fuel_type            0\n",
       "transmission_type    0\n",
       "owner                0\n",
       "reg_state            0\n",
       "kilometers_driven    0\n",
       "emi                  0\n",
       "total price          0\n",
       "dtype: int64"
      ]
     },
     "execution_count": 6,
     "metadata": {},
     "output_type": "execute_result"
    }
   ],
   "source": [
    "data.isnull().sum()"
   ]
  },
  {
   "cell_type": "markdown",
   "id": "fdb39a57",
   "metadata": {},
   "source": []
  },
  {
   "cell_type": "markdown",
   "id": "e2197c8c",
   "metadata": {},
   "source": [
    "# The main aim of this project is to predict the price of used cars  This can enable the customers to make decisions based on different inputs or factors namely\n",
    "\n",
    "# Brand of the car  like Ford, Hyundai\n",
    "\n",
    "# Model of the car namely SPORTZ Creta\n",
    "\n",
    "# registration state like up or haryana\n",
    "\n",
    "# Year of manufacturing like 2020, 2021\n",
    "\n",
    "# Type of fuel namely Petrol, Diesel\n",
    "\n",
    "# Price range or Budget\n",
    "\n",
    "# Type of transmission which the customer prefers like Automatic or Manual\n",
    "\n",
    "\n",
    "\n",
    "\n"
   ]
  },
  {
   "cell_type": "code",
   "execution_count": 7,
   "id": "898cdd77",
   "metadata": {},
   "outputs": [
    {
     "name": "stdout",
     "output_type": "stream",
     "text": [
      "<class 'pandas.core.frame.DataFrame'>\n",
      "RangeIndex: 400 entries, 0 to 399\n",
      "Data columns (total 10 columns):\n",
      " #   Column             Non-Null Count  Dtype \n",
      "---  ------             --------------  ----- \n",
      " 0   car_brand          400 non-null    object\n",
      " 1   car_model          400 non-null    object\n",
      " 2   year               400 non-null    int64 \n",
      " 3   fuel_type          400 non-null    object\n",
      " 4   transmission_type  400 non-null    object\n",
      " 5   owner              400 non-null    object\n",
      " 6   reg_state          400 non-null    object\n",
      " 7   kilometers_driven  400 non-null    int64 \n",
      " 8   emi                400 non-null    int64 \n",
      " 9   total price        400 non-null    int64 \n",
      "dtypes: int64(4), object(6)\n",
      "memory usage: 31.4+ KB\n"
     ]
    }
   ],
   "source": [
    "data.info()"
   ]
  },
  {
   "cell_type": "code",
   "execution_count": 8,
   "id": "c40ca2ee",
   "metadata": {},
   "outputs": [
    {
     "data": {
      "text/plain": [
       "1st    299\n",
       "2nd     94\n",
       "3rd      7\n",
       "Name: owner, dtype: int64"
      ]
     },
     "execution_count": 8,
     "metadata": {},
     "output_type": "execute_result"
    }
   ],
   "source": [
    "data[\"owner\"].value_counts() # from this we can conclude that 2nd hand cars are total of 94"
   ]
  },
  {
   "cell_type": "code",
   "execution_count": null,
   "id": "cf2ee825",
   "metadata": {},
   "outputs": [],
   "source": [
    "# from the above we can conclude that 2nd hand cars are total of 94"
   ]
  },
  {
   "cell_type": "code",
   "execution_count": 9,
   "id": "3b6b0090",
   "metadata": {},
   "outputs": [
    {
     "data": {
      "text/plain": [
       "11404    6\n",
       "2608     3\n",
       "3476     2\n",
       "8195     2\n",
       "61737    2\n",
       "        ..\n",
       "79315    1\n",
       "33924    1\n",
       "72561    1\n",
       "33431    1\n",
       "31540    1\n",
       "Name: kilometers_driven, Length: 344, dtype: int64"
      ]
     },
     "execution_count": 9,
     "metadata": {},
     "output_type": "execute_result"
    }
   ],
   "source": [
    "data['kilometers_driven'].value_counts()"
   ]
  },
  {
   "cell_type": "code",
   "execution_count": 10,
   "id": "5acf1771",
   "metadata": {},
   "outputs": [
    {
     "data": {
      "text/plain": [
       "Petrol    364\n",
       "Diesel     36\n",
       "Name: fuel_type, dtype: int64"
      ]
     },
     "execution_count": 10,
     "metadata": {},
     "output_type": "execute_result"
    }
   ],
   "source": [
    "data['fuel_type'].value_counts()"
   ]
  },
  {
   "cell_type": "code",
   "execution_count": 11,
   "id": "62eae8f5",
   "metadata": {},
   "outputs": [
    {
     "data": {
      "text/plain": [
       "Manual       319\n",
       "Automatic     40\n",
       "0             32\n",
       "CVT            8\n",
       "A/T            1\n",
       "Name: transmission_type, dtype: int64"
      ]
     },
     "execution_count": 11,
     "metadata": {},
     "output_type": "execute_result"
    }
   ],
   "source": [
    "data['transmission_type'].value_counts()"
   ]
  },
  {
   "cell_type": "markdown",
   "id": "b955ab85",
   "metadata": {},
   "source": [
    "# user case"
   ]
  },
  {
   "cell_type": "code",
   "execution_count": 12,
   "id": "36bbd756",
   "metadata": {},
   "outputs": [
    {
     "name": "stdout",
     "output_type": "stream",
     "text": [
      "Please Enter how many kilometers the car has been tavelled by the 1st owner: 10000\n",
      "Please Enter for which transmission type you are looking for:Manual\n",
      "Please Enter for which Fuel Type you are looking for:Petrol\n"
     ]
    },
    {
     "data": {
      "text/html": [
       "<div>\n",
       "<style scoped>\n",
       "    .dataframe tbody tr th:only-of-type {\n",
       "        vertical-align: middle;\n",
       "    }\n",
       "\n",
       "    .dataframe tbody tr th {\n",
       "        vertical-align: top;\n",
       "    }\n",
       "\n",
       "    .dataframe thead th {\n",
       "        text-align: right;\n",
       "    }\n",
       "</style>\n",
       "<table border=\"1\" class=\"dataframe\">\n",
       "  <thead>\n",
       "    <tr style=\"text-align: right;\">\n",
       "      <th></th>\n",
       "      <th>car_brand</th>\n",
       "      <th>car_model</th>\n",
       "      <th>year</th>\n",
       "      <th>fuel_type</th>\n",
       "      <th>transmission_type</th>\n",
       "      <th>owner</th>\n",
       "      <th>reg_state</th>\n",
       "      <th>kilometers_driven</th>\n",
       "      <th>emi</th>\n",
       "      <th>total price</th>\n",
       "    </tr>\n",
       "  </thead>\n",
       "  <tbody>\n",
       "    <tr>\n",
       "      <th>1</th>\n",
       "      <td>Hyundai Grand i10</td>\n",
       "      <td>SPORTZ</td>\n",
       "      <td>2018</td>\n",
       "      <td>Petrol</td>\n",
       "      <td>Manual</td>\n",
       "      <td>2nd</td>\n",
       "      <td>UP-16</td>\n",
       "      <td>6875</td>\n",
       "      <td>10418</td>\n",
       "      <td>532899</td>\n",
       "    </tr>\n",
       "    <tr>\n",
       "      <th>3</th>\n",
       "      <td>Maruti Swift</td>\n",
       "      <td>VXI</td>\n",
       "      <td>2020</td>\n",
       "      <td>Petrol</td>\n",
       "      <td>Manual</td>\n",
       "      <td>1st</td>\n",
       "      <td>DL-6C</td>\n",
       "      <td>3152</td>\n",
       "      <td>13083</td>\n",
       "      <td>669199</td>\n",
       "    </tr>\n",
       "    <tr>\n",
       "      <th>5</th>\n",
       "      <td>Renault Kiger</td>\n",
       "      <td>RXE</td>\n",
       "      <td>2021</td>\n",
       "      <td>Petrol</td>\n",
       "      <td>0</td>\n",
       "      <td>1st</td>\n",
       "      <td>DL-3C</td>\n",
       "      <td>1512</td>\n",
       "      <td>12238</td>\n",
       "      <td>625999</td>\n",
       "    </tr>\n",
       "    <tr>\n",
       "      <th>12</th>\n",
       "      <td>Renault Kwid</td>\n",
       "      <td>Neotech</td>\n",
       "      <td>2020</td>\n",
       "      <td>Petrol</td>\n",
       "      <td>Automatic</td>\n",
       "      <td>1st</td>\n",
       "      <td>DL-12</td>\n",
       "      <td>3389</td>\n",
       "      <td>9609</td>\n",
       "      <td>491499</td>\n",
       "    </tr>\n",
       "    <tr>\n",
       "      <th>20</th>\n",
       "      <td>Hyundai Grand i10</td>\n",
       "      <td>MAGNA</td>\n",
       "      <td>2020</td>\n",
       "      <td>Petrol</td>\n",
       "      <td>Manual</td>\n",
       "      <td>1st</td>\n",
       "      <td>UP-14</td>\n",
       "      <td>6470</td>\n",
       "      <td>11894</td>\n",
       "      <td>608399</td>\n",
       "    </tr>\n",
       "    <tr>\n",
       "      <th>...</th>\n",
       "      <td>...</td>\n",
       "      <td>...</td>\n",
       "      <td>...</td>\n",
       "      <td>...</td>\n",
       "      <td>...</td>\n",
       "      <td>...</td>\n",
       "      <td>...</td>\n",
       "      <td>...</td>\n",
       "      <td>...</td>\n",
       "      <td>...</td>\n",
       "    </tr>\n",
       "    <tr>\n",
       "      <th>354</th>\n",
       "      <td>Renault Kwid</td>\n",
       "      <td>RXL</td>\n",
       "      <td>2019</td>\n",
       "      <td>Petrol</td>\n",
       "      <td>Manual</td>\n",
       "      <td>1st</td>\n",
       "      <td>HR-51</td>\n",
       "      <td>1122</td>\n",
       "      <td>7707</td>\n",
       "      <td>394199</td>\n",
       "    </tr>\n",
       "    <tr>\n",
       "      <th>355</th>\n",
       "      <td>Maruti New Wagon-R</td>\n",
       "      <td>VXI</td>\n",
       "      <td>2021</td>\n",
       "      <td>Petrol</td>\n",
       "      <td>Manual</td>\n",
       "      <td>1st</td>\n",
       "      <td>DL-6C</td>\n",
       "      <td>3219</td>\n",
       "      <td>12074</td>\n",
       "      <td>617599</td>\n",
       "    </tr>\n",
       "    <tr>\n",
       "      <th>357</th>\n",
       "      <td>Hyundai Creta</td>\n",
       "      <td>SX</td>\n",
       "      <td>2021</td>\n",
       "      <td>Petrol</td>\n",
       "      <td>Manual</td>\n",
       "      <td>2nd</td>\n",
       "      <td>UP-16</td>\n",
       "      <td>7420</td>\n",
       "      <td>27928</td>\n",
       "      <td>1487199</td>\n",
       "    </tr>\n",
       "    <tr>\n",
       "      <th>361</th>\n",
       "      <td>Hyundai Elite i20</td>\n",
       "      <td>1.2</td>\n",
       "      <td>2020</td>\n",
       "      <td>Petrol</td>\n",
       "      <td>Manual</td>\n",
       "      <td>2nd</td>\n",
       "      <td>MP-40</td>\n",
       "      <td>7583</td>\n",
       "      <td>12653</td>\n",
       "      <td>647199</td>\n",
       "    </tr>\n",
       "    <tr>\n",
       "      <th>384</th>\n",
       "      <td>Renault Kwid</td>\n",
       "      <td>1.0</td>\n",
       "      <td>2022</td>\n",
       "      <td>Petrol</td>\n",
       "      <td>Automatic</td>\n",
       "      <td>1st</td>\n",
       "      <td>RJ-45</td>\n",
       "      <td>202</td>\n",
       "      <td>11971</td>\n",
       "      <td>612299</td>\n",
       "    </tr>\n",
       "  </tbody>\n",
       "</table>\n",
       "<p>92 rows × 10 columns</p>\n",
       "</div>"
      ],
      "text/plain": [
       "              car_brand car_model  year fuel_type transmission_type owner  \\\n",
       "1     Hyundai Grand i10    SPORTZ  2018    Petrol            Manual   2nd   \n",
       "3          Maruti Swift       VXI  2020    Petrol            Manual   1st   \n",
       "5         Renault Kiger       RXE  2021    Petrol                 0   1st   \n",
       "12         Renault Kwid   Neotech  2020    Petrol         Automatic   1st   \n",
       "20    Hyundai Grand i10     MAGNA  2020    Petrol            Manual   1st   \n",
       "..                  ...       ...   ...       ...               ...   ...   \n",
       "354        Renault Kwid       RXL  2019    Petrol            Manual   1st   \n",
       "355  Maruti New Wagon-R       VXI  2021    Petrol            Manual   1st   \n",
       "357       Hyundai Creta        SX  2021    Petrol            Manual   2nd   \n",
       "361   Hyundai Elite i20       1.2  2020    Petrol            Manual   2nd   \n",
       "384        Renault Kwid       1.0  2022    Petrol         Automatic   1st   \n",
       "\n",
       "    reg_state  kilometers_driven    emi  total price  \n",
       "1       UP-16               6875  10418       532899  \n",
       "3       DL-6C               3152  13083       669199  \n",
       "5       DL-3C               1512  12238       625999  \n",
       "12      DL-12               3389   9609       491499  \n",
       "20      UP-14               6470  11894       608399  \n",
       "..        ...                ...    ...          ...  \n",
       "354     HR-51               1122   7707       394199  \n",
       "355     DL-6C               3219  12074       617599  \n",
       "357     UP-16               7420  27928      1487199  \n",
       "361     MP-40               7583  12653       647199  \n",
       "384     RJ-45                202  11971       612299  \n",
       "\n",
       "[92 rows x 10 columns]"
      ]
     },
     "execution_count": 12,
     "metadata": {},
     "output_type": "execute_result"
    }
   ],
   "source": [
    "x = int(input(\"Please Enter how many kilometers the car has been tavelled by the 1st owner: \"))\n",
    "y = input(\"Please Enter for which transmission type you are looking for:\")\n",
    "z = input(\"Please Enter for which Fuel Type you are looking for:\")\n",
    "data[data['transmission_type']==y]\n",
    "data[data['fuel_type']==z]\n",
    "data[data['kilometers_driven']<=x]\n"
   ]
  },
  {
   "cell_type": "code",
   "execution_count": null,
   "id": "52835850",
   "metadata": {},
   "outputs": [],
   "source": [
    "# From the above user case i have defined filter that based on three parameters \"transmission_type\",\"fuel_type\",\"kilometers_driven\"\n",
    "# while giving specific values to that it will give you the result"
   ]
  },
  {
   "cell_type": "markdown",
   "id": "151401b6",
   "metadata": {},
   "source": [
    "# Univarient Analysis"
   ]
  },
  {
   "cell_type": "markdown",
   "id": "f8378bf7",
   "metadata": {},
   "source": [
    "## 1. Continous variables"
   ]
  },
  {
   "cell_type": "code",
   "execution_count": 13,
   "id": "07444175",
   "metadata": {},
   "outputs": [
    {
     "data": {
      "text/html": [
       "<div>\n",
       "<style scoped>\n",
       "    .dataframe tbody tr th:only-of-type {\n",
       "        vertical-align: middle;\n",
       "    }\n",
       "\n",
       "    .dataframe tbody tr th {\n",
       "        vertical-align: top;\n",
       "    }\n",
       "\n",
       "    .dataframe thead th {\n",
       "        text-align: right;\n",
       "    }\n",
       "</style>\n",
       "<table border=\"1\" class=\"dataframe\">\n",
       "  <thead>\n",
       "    <tr style=\"text-align: right;\">\n",
       "      <th></th>\n",
       "      <th>year</th>\n",
       "      <th>kilometers_driven</th>\n",
       "      <th>emi</th>\n",
       "      <th>total price</th>\n",
       "    </tr>\n",
       "  </thead>\n",
       "  <tbody>\n",
       "    <tr>\n",
       "      <th>count</th>\n",
       "      <td>400.000000</td>\n",
       "      <td>400.00000</td>\n",
       "      <td>400.000000</td>\n",
       "      <td>4.000000e+02</td>\n",
       "    </tr>\n",
       "    <tr>\n",
       "      <th>mean</th>\n",
       "      <td>2017.445000</td>\n",
       "      <td>32953.59500</td>\n",
       "      <td>12193.895000</td>\n",
       "      <td>6.334758e+05</td>\n",
       "    </tr>\n",
       "    <tr>\n",
       "      <th>std</th>\n",
       "      <td>3.442616</td>\n",
       "      <td>28459.25269</td>\n",
       "      <td>7176.289409</td>\n",
       "      <td>3.866004e+05</td>\n",
       "    </tr>\n",
       "    <tr>\n",
       "      <th>min</th>\n",
       "      <td>2009.000000</td>\n",
       "      <td>202.00000</td>\n",
       "      <td>3251.000000</td>\n",
       "      <td>1.662990e+05</td>\n",
       "    </tr>\n",
       "    <tr>\n",
       "      <th>25%</th>\n",
       "      <td>2015.000000</td>\n",
       "      <td>10929.75000</td>\n",
       "      <td>7638.000000</td>\n",
       "      <td>3.906990e+05</td>\n",
       "    </tr>\n",
       "    <tr>\n",
       "      <th>50%</th>\n",
       "      <td>2018.000000</td>\n",
       "      <td>26264.00000</td>\n",
       "      <td>10331.500000</td>\n",
       "      <td>5.284490e+05</td>\n",
       "    </tr>\n",
       "    <tr>\n",
       "      <th>75%</th>\n",
       "      <td>2020.000000</td>\n",
       "      <td>47163.25000</td>\n",
       "      <td>13765.000000</td>\n",
       "      <td>7.040990e+05</td>\n",
       "    </tr>\n",
       "    <tr>\n",
       "      <th>max</th>\n",
       "      <td>2022.000000</td>\n",
       "      <td>242614.00000</td>\n",
       "      <td>41272.000000</td>\n",
       "      <td>2.197799e+06</td>\n",
       "    </tr>\n",
       "  </tbody>\n",
       "</table>\n",
       "</div>"
      ],
      "text/plain": [
       "              year  kilometers_driven           emi   total price\n",
       "count   400.000000          400.00000    400.000000  4.000000e+02\n",
       "mean   2017.445000        32953.59500  12193.895000  6.334758e+05\n",
       "std       3.442616        28459.25269   7176.289409  3.866004e+05\n",
       "min    2009.000000          202.00000   3251.000000  1.662990e+05\n",
       "25%    2015.000000        10929.75000   7638.000000  3.906990e+05\n",
       "50%    2018.000000        26264.00000  10331.500000  5.284490e+05\n",
       "75%    2020.000000        47163.25000  13765.000000  7.040990e+05\n",
       "max    2022.000000       242614.00000  41272.000000  2.197799e+06"
      ]
     },
     "execution_count": 13,
     "metadata": {},
     "output_type": "execute_result"
    }
   ],
   "source": [
    "data.describe()"
   ]
  },
  {
   "cell_type": "markdown",
   "id": "eff84320",
   "metadata": {},
   "source": [
    "# Observations:\n",
    "1. from the above observation we can see that mean is higher for kilometers_driven\n",
    "2. from the above observation we can see that std is higher for kilometers_driven\n",
    "3. from the above observation we can see that min is for kilometers_driven\n",
    "4. from the above observation we can see that max is for kilometers_driven\n",
    "5. from the above observation we can see that Q1 is high for kilometers_driven(25%)\n",
    "5. from the above observation we can see that Q2 is high for kilometers_driven(50%)\n",
    "5. from the above observation we can see that Q3 is high for kilometers_driven(75%)"
   ]
  },
  {
   "cell_type": "code",
   "execution_count": 14,
   "id": "baeac584",
   "metadata": {},
   "outputs": [
    {
     "name": "stderr",
     "output_type": "stream",
     "text": [
      "C:\\Users\\shanmukha varma\\AppData\\Local\\Temp\\ipykernel_32424\\531903386.py:1: FutureWarning: Dropping of nuisance columns in DataFrame reductions (with 'numeric_only=None') is deprecated; in a future version this will raise TypeError.  Select only valid columns before calling the reduction.\n",
      "  data.mean()\n"
     ]
    },
    {
     "data": {
      "text/plain": [
       "year                   2017.445\n",
       "kilometers_driven     32953.595\n",
       "emi                   12193.895\n",
       "total price          633475.800\n",
       "dtype: float64"
      ]
     },
     "execution_count": 14,
     "metadata": {},
     "output_type": "execute_result"
    }
   ],
   "source": [
    "data.mean()"
   ]
  },
  {
   "cell_type": "code",
   "execution_count": 15,
   "id": "e9ede12f",
   "metadata": {},
   "outputs": [
    {
     "name": "stderr",
     "output_type": "stream",
     "text": [
      "C:\\Users\\shanmukha varma\\AppData\\Local\\Temp\\ipykernel_32424\\4184645713.py:1: FutureWarning: Dropping of nuisance columns in DataFrame reductions (with 'numeric_only=None') is deprecated; in a future version this will raise TypeError.  Select only valid columns before calling the reduction.\n",
      "  data.median()\n"
     ]
    },
    {
     "data": {
      "text/plain": [
       "year                   2018.0\n",
       "kilometers_driven     26264.0\n",
       "emi                   10331.5\n",
       "total price          528449.0\n",
       "dtype: float64"
      ]
     },
     "execution_count": 15,
     "metadata": {},
     "output_type": "execute_result"
    }
   ],
   "source": [
    "data.median()"
   ]
  },
  {
   "cell_type": "code",
   "execution_count": 16,
   "id": "a0b24176",
   "metadata": {},
   "outputs": [
    {
     "data": {
      "text/html": [
       "<div>\n",
       "<style scoped>\n",
       "    .dataframe tbody tr th:only-of-type {\n",
       "        vertical-align: middle;\n",
       "    }\n",
       "\n",
       "    .dataframe tbody tr th {\n",
       "        vertical-align: top;\n",
       "    }\n",
       "\n",
       "    .dataframe thead th {\n",
       "        text-align: right;\n",
       "    }\n",
       "</style>\n",
       "<table border=\"1\" class=\"dataframe\">\n",
       "  <thead>\n",
       "    <tr style=\"text-align: right;\">\n",
       "      <th></th>\n",
       "      <th>car_brand</th>\n",
       "      <th>car_model</th>\n",
       "      <th>year</th>\n",
       "      <th>fuel_type</th>\n",
       "      <th>transmission_type</th>\n",
       "      <th>owner</th>\n",
       "      <th>reg_state</th>\n",
       "      <th>kilometers_driven</th>\n",
       "      <th>emi</th>\n",
       "      <th>total price</th>\n",
       "    </tr>\n",
       "  </thead>\n",
       "  <tbody>\n",
       "    <tr>\n",
       "      <th>0</th>\n",
       "      <td>Maruti Swift</td>\n",
       "      <td>VXI</td>\n",
       "      <td>2021</td>\n",
       "      <td>Petrol</td>\n",
       "      <td>Manual</td>\n",
       "      <td>1st</td>\n",
       "      <td>MP-04</td>\n",
       "      <td>11404</td>\n",
       "      <td>10596</td>\n",
       "      <td>541999</td>\n",
       "    </tr>\n",
       "  </tbody>\n",
       "</table>\n",
       "</div>"
      ],
      "text/plain": [
       "      car_brand car_model  year fuel_type transmission_type owner reg_state  \\\n",
       "0  Maruti Swift       VXI  2021    Petrol            Manual   1st     MP-04   \n",
       "\n",
       "   kilometers_driven    emi  total price  \n",
       "0              11404  10596       541999  "
      ]
     },
     "execution_count": 16,
     "metadata": {},
     "output_type": "execute_result"
    }
   ],
   "source": [
    "data.mode()"
   ]
  },
  {
   "cell_type": "markdown",
   "id": "0909ead1",
   "metadata": {},
   "source": [
    "# calculating the variance for total price"
   ]
  },
  {
   "cell_type": "code",
   "execution_count": 17,
   "id": "59381aef",
   "metadata": {},
   "outputs": [
    {
     "data": {
      "text/plain": [
       "total price    1.494599e+11\n",
       "dtype: float64"
      ]
     },
     "execution_count": 17,
     "metadata": {},
     "output_type": "execute_result"
    }
   ],
   "source": [
    "data.loc[:,['total price']].var()"
   ]
  },
  {
   "cell_type": "markdown",
   "id": "d8d29c42",
   "metadata": {},
   "source": [
    "# calculating the standard deviation for total price"
   ]
  },
  {
   "cell_type": "code",
   "execution_count": 18,
   "id": "4b6e8ecd",
   "metadata": {},
   "outputs": [
    {
     "data": {
      "text/plain": [
       "total price    386600.398581\n",
       "dtype: float64"
      ]
     },
     "execution_count": 18,
     "metadata": {},
     "output_type": "execute_result"
    }
   ],
   "source": [
    "data.loc[:,['total price']].std()"
   ]
  },
  {
   "cell_type": "markdown",
   "id": "cd042100",
   "metadata": {},
   "source": [
    "# calculating the variance for year"
   ]
  },
  {
   "cell_type": "code",
   "execution_count": 19,
   "id": "091c2333",
   "metadata": {},
   "outputs": [
    {
     "data": {
      "text/plain": [
       "year    11.851604\n",
       "dtype: float64"
      ]
     },
     "execution_count": 19,
     "metadata": {},
     "output_type": "execute_result"
    }
   ],
   "source": [
    "data.loc[:,['year']].var()"
   ]
  },
  {
   "cell_type": "markdown",
   "id": "f97181cf",
   "metadata": {},
   "source": [
    "# calculating the standard deviation for year"
   ]
  },
  {
   "cell_type": "code",
   "execution_count": 20,
   "id": "62311dcb",
   "metadata": {},
   "outputs": [
    {
     "data": {
      "text/plain": [
       "year    3.442616\n",
       "dtype: float64"
      ]
     },
     "execution_count": 20,
     "metadata": {},
     "output_type": "execute_result"
    }
   ],
   "source": [
    "data.loc[:,['year']].std()"
   ]
  },
  {
   "cell_type": "markdown",
   "id": "f1c4fdbc",
   "metadata": {},
   "source": [
    "# calculating the variance for kilometers_driven"
   ]
  },
  {
   "cell_type": "code",
   "execution_count": 21,
   "id": "c89a890f",
   "metadata": {},
   "outputs": [
    {
     "data": {
      "text/plain": [
       "kilometers_driven    8.099291e+08\n",
       "dtype: float64"
      ]
     },
     "execution_count": 21,
     "metadata": {},
     "output_type": "execute_result"
    }
   ],
   "source": [
    "data.loc[:,['kilometers_driven']].var()"
   ]
  },
  {
   "cell_type": "markdown",
   "id": "7f5a89ad",
   "metadata": {},
   "source": [
    "# calculating the standard deviation for kilometers_driven"
   ]
  },
  {
   "cell_type": "code",
   "execution_count": 22,
   "id": "d512a496",
   "metadata": {},
   "outputs": [
    {
     "data": {
      "text/plain": [
       "kilometers_driven    28459.25269\n",
       "dtype: float64"
      ]
     },
     "execution_count": 22,
     "metadata": {},
     "output_type": "execute_result"
    }
   ],
   "source": [
    "data.loc[:,['kilometers_driven']].std()"
   ]
  },
  {
   "cell_type": "code",
   "execution_count": 23,
   "id": "78763475",
   "metadata": {},
   "outputs": [
    {
     "data": {
      "text/html": [
       "<div>\n",
       "<style scoped>\n",
       "    .dataframe tbody tr th:only-of-type {\n",
       "        vertical-align: middle;\n",
       "    }\n",
       "\n",
       "    .dataframe tbody tr th {\n",
       "        vertical-align: top;\n",
       "    }\n",
       "\n",
       "    .dataframe thead th {\n",
       "        text-align: right;\n",
       "    }\n",
       "</style>\n",
       "<table border=\"1\" class=\"dataframe\">\n",
       "  <thead>\n",
       "    <tr style=\"text-align: right;\">\n",
       "      <th></th>\n",
       "      <th>year</th>\n",
       "      <th>kilometers_driven</th>\n",
       "      <th>emi</th>\n",
       "      <th>total price</th>\n",
       "    </tr>\n",
       "  </thead>\n",
       "  <tbody>\n",
       "    <tr>\n",
       "      <th>count</th>\n",
       "      <td>400.000000</td>\n",
       "      <td>400.00000</td>\n",
       "      <td>400.000000</td>\n",
       "      <td>4.000000e+02</td>\n",
       "    </tr>\n",
       "    <tr>\n",
       "      <th>mean</th>\n",
       "      <td>2017.445000</td>\n",
       "      <td>32953.59500</td>\n",
       "      <td>12193.895000</td>\n",
       "      <td>6.334758e+05</td>\n",
       "    </tr>\n",
       "    <tr>\n",
       "      <th>std</th>\n",
       "      <td>3.442616</td>\n",
       "      <td>28459.25269</td>\n",
       "      <td>7176.289409</td>\n",
       "      <td>3.866004e+05</td>\n",
       "    </tr>\n",
       "    <tr>\n",
       "      <th>min</th>\n",
       "      <td>2009.000000</td>\n",
       "      <td>202.00000</td>\n",
       "      <td>3251.000000</td>\n",
       "      <td>1.662990e+05</td>\n",
       "    </tr>\n",
       "    <tr>\n",
       "      <th>25%</th>\n",
       "      <td>2015.000000</td>\n",
       "      <td>10929.75000</td>\n",
       "      <td>7638.000000</td>\n",
       "      <td>3.906990e+05</td>\n",
       "    </tr>\n",
       "    <tr>\n",
       "      <th>50%</th>\n",
       "      <td>2018.000000</td>\n",
       "      <td>26264.00000</td>\n",
       "      <td>10331.500000</td>\n",
       "      <td>5.284490e+05</td>\n",
       "    </tr>\n",
       "    <tr>\n",
       "      <th>75%</th>\n",
       "      <td>2020.000000</td>\n",
       "      <td>47163.25000</td>\n",
       "      <td>13765.000000</td>\n",
       "      <td>7.040990e+05</td>\n",
       "    </tr>\n",
       "    <tr>\n",
       "      <th>max</th>\n",
       "      <td>2022.000000</td>\n",
       "      <td>242614.00000</td>\n",
       "      <td>41272.000000</td>\n",
       "      <td>2.197799e+06</td>\n",
       "    </tr>\n",
       "  </tbody>\n",
       "</table>\n",
       "</div>"
      ],
      "text/plain": [
       "              year  kilometers_driven           emi   total price\n",
       "count   400.000000          400.00000    400.000000  4.000000e+02\n",
       "mean   2017.445000        32953.59500  12193.895000  6.334758e+05\n",
       "std       3.442616        28459.25269   7176.289409  3.866004e+05\n",
       "min    2009.000000          202.00000   3251.000000  1.662990e+05\n",
       "25%    2015.000000        10929.75000   7638.000000  3.906990e+05\n",
       "50%    2018.000000        26264.00000  10331.500000  5.284490e+05\n",
       "75%    2020.000000        47163.25000  13765.000000  7.040990e+05\n",
       "max    2022.000000       242614.00000  41272.000000  2.197799e+06"
      ]
     },
     "execution_count": 23,
     "metadata": {},
     "output_type": "execute_result"
    }
   ],
   "source": [
    "data.describe()"
   ]
  },
  {
   "cell_type": "markdown",
   "id": "2c9d0187",
   "metadata": {},
   "source": [
    "# calculating the variance for emi"
   ]
  },
  {
   "cell_type": "code",
   "execution_count": 24,
   "id": "0523ebb7",
   "metadata": {},
   "outputs": [
    {
     "data": {
      "text/plain": [
       "emi    5.149913e+07\n",
       "dtype: float64"
      ]
     },
     "execution_count": 24,
     "metadata": {},
     "output_type": "execute_result"
    }
   ],
   "source": [
    "data.loc[:,['emi']].var()"
   ]
  },
  {
   "cell_type": "markdown",
   "id": "b7c75742",
   "metadata": {},
   "source": [
    "# calculating the standard deviation for emi"
   ]
  },
  {
   "cell_type": "code",
   "execution_count": 25,
   "id": "b905e65c",
   "metadata": {},
   "outputs": [
    {
     "data": {
      "text/plain": [
       "emi    7176.289409\n",
       "dtype: float64"
      ]
     },
     "execution_count": 25,
     "metadata": {},
     "output_type": "execute_result"
    }
   ],
   "source": [
    "data.loc[:,['emi']].std()"
   ]
  },
  {
   "cell_type": "markdown",
   "id": "aba39c71",
   "metadata": {},
   "source": []
  },
  {
   "cell_type": "code",
   "execution_count": 232,
   "id": "1f686cba",
   "metadata": {},
   "outputs": [
    {
     "data": {
      "text/plain": [
       "array([[<AxesSubplot:title={'center':'year'}>,\n",
       "        <AxesSubplot:title={'center':'kilometers_driven'}>],\n",
       "       [<AxesSubplot:title={'center':'emi'}>,\n",
       "        <AxesSubplot:title={'center':'total price'}>]], dtype=object)"
      ]
     },
     "execution_count": 232,
     "metadata": {},
     "output_type": "execute_result"
    },
    {
     "data": {
      "text/plain": [
       "<Figure size 720x1440 with 0 Axes>"
      ]
     },
     "metadata": {},
     "output_type": "display_data"
    },
    {
     "data": {
      "image/png": "[encoded data removed]",
      "text/plain": [
       "<Figure size 432x288 with 4 Axes>"
      ]
     },
     "metadata": {
      "needs_background": "light"
     },
     "output_type": "display_data"
    }
   ],
   "source": [
    "plt.figure(figsize=(10,20))\n",
    "data.hist()"
   ]
  },
  {
   "cell_type": "code",
   "execution_count": 27,
   "id": "517b15aa",
   "metadata": {},
   "outputs": [
    {
     "data": {
      "text/plain": [
       "<AxesSubplot:xlabel='year', ylabel='emi'>"
      ]
     },
     "execution_count": 27,
     "metadata": {},
     "output_type": "execute_result"
    },
    {
     "data": {
      "image/png": "[encoded data removed]",
      "text/plain": [
       "<Figure size 432x288 with 1 Axes>"
      ]
     },
     "metadata": {
      "needs_background": "light"
     },
     "output_type": "display_data"
    }
   ],
   "source": [
    "sns.boxplot( x=data[\"year\"], y=data[\"emi\"] )\n",
    "# when outliers are present we go for median calculation\n",
    "# as u can see that in 2021 there is a outlier which means having higher price in emi"
   ]
  },
  {
   "cell_type": "code",
   "execution_count": 28,
   "id": "aaf9dc31",
   "metadata": {},
   "outputs": [
    {
     "data": {
      "text/plain": [
       "<AxesSubplot:xlabel='year', ylabel='total price'>"
      ]
     },
     "execution_count": 28,
     "metadata": {},
     "output_type": "execute_result"
    },
    {
     "data": {
      "image/png": "[encoded data removed]",
      "text/plain": [
       "<Figure size 432x288 with 1 Axes>"
      ]
     },
     "metadata": {
      "needs_background": "light"
     },
     "output_type": "display_data"
    }
   ],
   "source": [
    "sns.boxplot( x=data[\"year\"], y=data[\"total price\"] )\n",
    "# as u can see that in 2021 there is a outlier which means having higher price in total_price"
   ]
  },
  {
   "cell_type": "code",
   "execution_count": 234,
   "id": "fa3f4852",
   "metadata": {},
   "outputs": [
    {
     "data": {
      "text/plain": [
       "<AxesSubplot:xlabel='year', ylabel='kilometers_driven'>"
      ]
     },
     "execution_count": 234,
     "metadata": {},
     "output_type": "execute_result"
    },
    {
     "data": {
      "image/png": "[encoded data removed]",
      "text/plain": [
       "<Figure size 1440x648 with 1 Axes>"
      ]
     },
     "metadata": {
      "needs_background": "light"
     },
     "output_type": "display_data"
    }
   ],
   "source": [
    "plt.figure(figsize=(20,9))\n",
    "sns.boxplot( x=data[\"year\"], y=data[\"kilometers_driven\"])\n",
    "# as you can see that in 2017 we have a outlier which is having higher driven in kilometers"
   ]
  },
  {
   "cell_type": "code",
   "execution_count": 30,
   "id": "19595b03",
   "metadata": {},
   "outputs": [
    {
     "name": "stderr",
     "output_type": "stream",
     "text": [
      "C:\\ProgramData\\Anaconda3\\lib\\site-packages\\seaborn\\distributions.py:2619: FutureWarning: `distplot` is a deprecated function and will be removed in a future version. Please adapt your code to use either `displot` (a figure-level function with similar flexibility) or `histplot` (an axes-level function for histograms).\n",
      "  warnings.warn(msg, FutureWarning)\n"
     ]
    },
    {
     "data": {
      "text/plain": [
       "<AxesSubplot:xlabel='year'>"
      ]
     },
     "execution_count": 30,
     "metadata": {},
     "output_type": "execute_result"
    },
    {
     "data": {
      "image/png": "[encoded data removed]",
      "text/plain": [
       "<Figure size 432x288 with 1 Axes>"
      ]
     },
     "metadata": {
      "needs_background": "light"
     },
     "output_type": "display_data"
    }
   ],
   "source": [
    "sns.distplot( a=data[\"year\"], hist=True, kde=False, rug=False )"
   ]
  },
  {
   "cell_type": "code",
   "execution_count": 31,
   "id": "3ffdba49",
   "metadata": {},
   "outputs": [],
   "source": [
    "# from the above histogram we can conclude that in the year 2022 there are more no of sales"
   ]
  },
  {
   "cell_type": "code",
   "execution_count": 32,
   "id": "2ba89ac9",
   "metadata": {},
   "outputs": [
    {
     "data": {
      "text/plain": [
       "<AxesSubplot:xlabel='fuel_type', ylabel='year'>"
      ]
     },
     "execution_count": 32,
     "metadata": {},
     "output_type": "execute_result"
    },
    {
     "data": {
      "image/png": "[encoded data removed]",
      "text/plain": [
       "<Figure size 432x288 with 1 Axes>"
      ]
     },
     "metadata": {
      "needs_background": "light"
     },
     "output_type": "display_data"
    }
   ],
   "source": [
    "sns.violinplot(x=data[\"fuel_type\"], y=data[\"year\"])"
   ]
  },
  {
   "cell_type": "code",
   "execution_count": 33,
   "id": "6f6f1d00",
   "metadata": {},
   "outputs": [],
   "source": [
    "# from the above violin plot we can see that petrol consumption is more in 2018\n",
    "# from the above violin plot we can see that diesel consumption is slightly between 2018 and 2019"
   ]
  },
  {
   "cell_type": "code",
   "execution_count": 34,
   "id": "b5d9ab6b",
   "metadata": {},
   "outputs": [
    {
     "data": {
      "text/plain": [
       "0      Manual\n",
       "1      Manual\n",
       "2      Manual\n",
       "3      Manual\n",
       "4      Manual\n",
       "        ...  \n",
       "395    Manual\n",
       "396    Manual\n",
       "397    Manual\n",
       "398    Manual\n",
       "399    Manual\n",
       "Name: transmission_type, Length: 400, dtype: object"
      ]
     },
     "execution_count": 34,
     "metadata": {},
     "output_type": "execute_result"
    }
   ],
   "source": [
    "data['transmission_type']"
   ]
  },
  {
   "cell_type": "code",
   "execution_count": 37,
   "id": "967f6019",
   "metadata": {},
   "outputs": [
    {
     "data": {
      "text/plain": [
       "<AxesSubplot:xlabel='owner', ylabel='year'>"
      ]
     },
     "execution_count": 37,
     "metadata": {},
     "output_type": "execute_result"
    },
    {
     "data": {
      "image/png": "[encoded data removed]",
      "text/plain": [
       "<Figure size 432x288 with 1 Axes>"
      ]
     },
     "metadata": {
      "needs_background": "light"
     },
     "output_type": "display_data"
    }
   ],
   "source": [
    "sns.violinplot(x=data[\"owner\"], y=data[\"year\"])"
   ]
  },
  {
   "cell_type": "code",
   "execution_count": 38,
   "id": "b8c86598",
   "metadata": {},
   "outputs": [],
   "source": [
    "# from the above violin plot we can see that 1st owners is morely in 2019\n",
    "# from the above violin plot we can see that 2nd owners is morely in 2018\n",
    "# from the above violin plot we can see that 3rd owners is morely in 2013"
   ]
  },
  {
   "cell_type": "markdown",
   "id": "16a7f407",
   "metadata": {},
   "source": [
    "# 2. Categorical Variables"
   ]
  },
  {
   "cell_type": "code",
   "execution_count": 39,
   "id": "45b2f046",
   "metadata": {},
   "outputs": [
    {
     "data": {
      "image/png": "[encoded data removed]",
      "text/plain": [
       "<Figure size 2160x720 with 1 Axes>"
      ]
     },
     "metadata": {
      "needs_background": "light"
     },
     "output_type": "display_data"
    }
   ],
   "source": [
    "plt.figure(figsize=(30,10))\n",
    "sns.barplot(x='year',y='kilometers_driven',data=data)\n",
    "plt.show()"
   ]
  },
  {
   "cell_type": "code",
   "execution_count": 40,
   "id": "267f419b",
   "metadata": {},
   "outputs": [],
   "source": [
    "# from the above graph we can conclude that more kilometers are driven in 2012"
   ]
  },
  {
   "cell_type": "code",
   "execution_count": 41,
   "id": "4ba6dd6d",
   "metadata": {},
   "outputs": [
    {
     "data": {
      "image/png": "[encoded data removed]",
      "text/plain": [
       "<Figure size 2160x720 with 1 Axes>"
      ]
     },
     "metadata": {
      "needs_background": "light"
     },
     "output_type": "display_data"
    }
   ],
   "source": [
    "plt.figure(figsize=(30,10))\n",
    "sns.barplot(x='year',y='emi',data=data)\n",
    "plt.show()"
   ]
  },
  {
   "cell_type": "code",
   "execution_count": 42,
   "id": "93152779",
   "metadata": {},
   "outputs": [],
   "source": [
    "# from the above graph we can conclude that emi is morely paid on the year 2015"
   ]
  },
  {
   "cell_type": "code",
   "execution_count": 43,
   "id": "152d4276",
   "metadata": {},
   "outputs": [
    {
     "data": {
      "image/png": "[encoded data removed]",
      "text/plain": [
       "<Figure size 2160x720 with 1 Axes>"
      ]
     },
     "metadata": {
      "needs_background": "light"
     },
     "output_type": "display_data"
    }
   ],
   "source": [
    "plt.figure(figsize=(30,10))\n",
    "sns.barplot(x='year',y='total price',data=data)\n",
    "plt.show()"
   ]
  },
  {
   "cell_type": "code",
   "execution_count": 44,
   "id": "0aef10ed",
   "metadata": {},
   "outputs": [],
   "source": [
    "# from the above graph we can conclude that total price money is morely paid on the year 2022"
   ]
  },
  {
   "cell_type": "code",
   "execution_count": 45,
   "id": "efbe5a49",
   "metadata": {},
   "outputs": [
    {
     "data": {
      "text/plain": [
       "<AxesSubplot:xlabel='year', ylabel='count'>"
      ]
     },
     "execution_count": 45,
     "metadata": {},
     "output_type": "execute_result"
    },
    {
     "data": {
      "image/png": "[encoded data removed]",
      "text/plain": [
       "<Figure size 432x288 with 1 Axes>"
      ]
     },
     "metadata": {
      "needs_background": "light"
     },
     "output_type": "display_data"
    }
   ],
   "source": [
    "sns.countplot(x='year',data=data)"
   ]
  },
  {
   "cell_type": "code",
   "execution_count": 46,
   "id": "b68d0d19",
   "metadata": {},
   "outputs": [],
   "source": [
    "# from the above count plot we can conclude that no of observations is recorded high in the year 2021 approximately to 53"
   ]
  },
  {
   "cell_type": "code",
   "execution_count": 47,
   "id": "9f6bf5ab",
   "metadata": {},
   "outputs": [
    {
     "data": {
      "text/plain": [
       "<AxesSubplot:xlabel='owner', ylabel='count'>"
      ]
     },
     "execution_count": 47,
     "metadata": {},
     "output_type": "execute_result"
    },
    {
     "data": {
      "image/png": "[encoded data removed]",
      "text/plain": [
       "<Figure size 432x288 with 1 Axes>"
      ]
     },
     "metadata": {
      "needs_background": "light"
     },
     "output_type": "display_data"
    }
   ],
   "source": [
    "sns.countplot(x='owner',data=data)"
   ]
  },
  {
   "cell_type": "code",
   "execution_count": 48,
   "id": "3d7272e4",
   "metadata": {},
   "outputs": [],
   "source": [
    "# from the above count plot we can conclude that no of observations is recorded high in the 1st owner section app to 290"
   ]
  },
  {
   "cell_type": "code",
   "execution_count": 50,
   "id": "4b310c00",
   "metadata": {},
   "outputs": [],
   "source": [
    "# from the above count plot we can conclude that no of observations is recorded high in the manual section app to 340"
   ]
  },
  {
   "cell_type": "code",
   "execution_count": 51,
   "id": "5e01830e",
   "metadata": {},
   "outputs": [
    {
     "data": {
      "text/plain": [
       "<AxesSubplot:xlabel='reg_state', ylabel='count'>"
      ]
     },
     "execution_count": 51,
     "metadata": {},
     "output_type": "execute_result"
    },
    {
     "data": {
      "image/png": "[encoded data removed]",
      "text/plain": [
       "<Figure size 4320x720 with 1 Axes>"
      ]
     },
     "metadata": {
      "needs_background": "light"
     },
     "output_type": "display_data"
    }
   ],
   "source": [
    "plt.figure(figsize=(60,10))\n",
    "sns.countplot(x=data['reg_state'][0:100],data=data)"
   ]
  },
  {
   "cell_type": "code",
   "execution_count": 52,
   "id": "d7302a87",
   "metadata": {},
   "outputs": [],
   "source": [
    "# from the above count plot we can conclude that no of observations is recorded high in the models hr26 and mh02"
   ]
  },
  {
   "cell_type": "code",
   "execution_count": 56,
   "id": "d4ea835b",
   "metadata": {},
   "outputs": [
    {
     "data": {
      "text/plain": [
       "(400, 10)"
      ]
     },
     "execution_count": 56,
     "metadata": {},
     "output_type": "execute_result"
    }
   ],
   "source": [
    "data.shape"
   ]
  },
  {
   "cell_type": "code",
   "execution_count": 118,
   "id": "9b5b7c42",
   "metadata": {},
   "outputs": [
    {
     "data": {
      "text/plain": [
       "<AxesSubplot:xlabel='fuel_type', ylabel='count'>"
      ]
     },
     "execution_count": 118,
     "metadata": {},
     "output_type": "execute_result"
    },
    {
     "data": {
      "image/png": "[encoded data removed]",
      "text/plain": [
       "<Figure size 432x288 with 1 Axes>"
      ]
     },
     "metadata": {
      "needs_background": "light"
     },
     "output_type": "display_data"
    }
   ],
   "source": [
    "sns.countplot(x='fuel_type',data=data)"
   ]
  },
  {
   "cell_type": "code",
   "execution_count": 57,
   "id": "7719c35f",
   "metadata": {},
   "outputs": [
    {
     "data": {
      "text/plain": [
       "<AxesSubplot:>"
      ]
     },
     "execution_count": 57,
     "metadata": {},
     "output_type": "execute_result"
    },
    {
     "data": {
      "image/png": "[encoded data removed]",
      "text/plain": [
       "<Figure size 432x288 with 1 Axes>"
      ]
     },
     "metadata": {
      "needs_background": "light"
     },
     "output_type": "display_data"
    }
   ],
   "source": [
    "data[\"fuel_type\"].value_counts().plot.bar()\n",
    "# from this graph we can conclude that petrol is more widely used"
   ]
  },
  {
   "cell_type": "code",
   "execution_count": 58,
   "id": "cc22bbc7",
   "metadata": {},
   "outputs": [
    {
     "data": {
      "text/plain": [
       "<AxesSubplot:>"
      ]
     },
     "execution_count": 58,
     "metadata": {},
     "output_type": "execute_result"
    },
    {
     "data": {
      "image/png": "[encoded data removed]",
      "text/plain": [
       "<Figure size 432x288 with 1 Axes>"
      ]
     },
     "metadata": {
      "needs_background": "light"
     },
     "output_type": "display_data"
    }
   ],
   "source": [
    "data[\"transmission_type\"].value_counts().plot.bar()\n",
    "# from this graph we can conclude that manual is more widely used"
   ]
  },
  {
   "cell_type": "code",
   "execution_count": 59,
   "id": "846a9cca",
   "metadata": {},
   "outputs": [
    {
     "data": {
      "text/plain": [
       "<AxesSubplot:>"
      ]
     },
     "execution_count": 59,
     "metadata": {},
     "output_type": "execute_result"
    },
    {
     "data": {
      "image/png": "[encoded data removed]",
      "text/plain": [
       "<Figure size 432x288 with 1 Axes>"
      ]
     },
     "metadata": {
      "needs_background": "light"
     },
     "output_type": "display_data"
    }
   ],
   "source": [
    "data[\"owner\"].value_counts().plot.bar()\n",
    "# from this graph we can conclude that ist hand cars is more widely used"
   ]
  },
  {
   "cell_type": "code",
   "execution_count": 240,
   "id": "d5cd0276",
   "metadata": {},
   "outputs": [
    {
     "data": {
      "text/plain": [
       "<AxesSubplot:>"
      ]
     },
     "execution_count": 240,
     "metadata": {},
     "output_type": "execute_result"
    },
    {
     "data": {
      "image/png": "[encoded data removed]",
      "text/plain": [
       "<Figure size 2160x720 with 1 Axes>"
      ]
     },
     "metadata": {
      "needs_background": "light"
     },
     "output_type": "display_data"
    }
   ],
   "source": [
    "plt.figure(figsize=(30,10))\n",
    "data[\"car_brand\"].value_counts().plot.bar()\n",
    "# from this we can conclude maruti swift is the most widely used car"
   ]
  },
  {
   "cell_type": "code",
   "execution_count": 61,
   "id": "ae9876dd",
   "metadata": {},
   "outputs": [
    {
     "data": {
      "text/plain": [
       "<AxesSubplot:>"
      ]
     },
     "execution_count": 61,
     "metadata": {},
     "output_type": "execute_result"
    },
    {
     "data": {
      "image/png": "[encoded data removed]",
      "text/plain": [
       "<Figure size 2160x720 with 1 Axes>"
      ]
     },
     "metadata": {
      "needs_background": "light"
     },
     "output_type": "display_data"
    }
   ],
   "source": [
    "plt.figure(figsize=(30,10))\n",
    "data[\"car_model\"].value_counts().plot.bar()\n",
    "# from this we can conclude maruti swift-VXI is the most widely used car"
   ]
  },
  {
   "cell_type": "code",
   "execution_count": 62,
   "id": "2528e365",
   "metadata": {},
   "outputs": [
    {
     "data": {
      "text/plain": [
       "<AxesSubplot:>"
      ]
     },
     "execution_count": 62,
     "metadata": {},
     "output_type": "execute_result"
    },
    {
     "data": {
      "image/png": "[encoded data removed]",
      "text/plain": [
       "<Figure size 2160x720 with 1 Axes>"
      ]
     },
     "metadata": {
      "needs_background": "light"
     },
     "output_type": "display_data"
    }
   ],
   "source": [
    "plt.figure(figsize=(30,10))\n",
    "data[\"year\"].value_counts().plot.bar()\n",
    "# from this insight we can conclude that the year 2021 has saled more cars"
   ]
  },
  {
   "cell_type": "code",
   "execution_count": 63,
   "id": "241e0ff1",
   "metadata": {},
   "outputs": [
    {
     "data": {
      "image/png": "[encoded data removed]",
      "text/plain": [
       "<Figure size 2160x720 with 1 Axes>"
      ]
     },
     "metadata": {
      "needs_background": "light"
     },
     "output_type": "display_data"
    }
   ],
   "source": [
    "plt.figure(figsize=(30,10))\n",
    "plt.bar(data['year'],data['transmission_type'],color='yellow',edgecolor='green')\n",
    "plt.title(\"year vs transmission_type\",fontsize=20)\n",
    "plt.xlabel('year')\n",
    "plt.ylabel('transmission_type')\n",
    "plt.show()\n",
    "# from 2019 --2021 we conclude cvt is mostly used transmission _type"
   ]
  },
  {
   "cell_type": "code",
   "execution_count": null,
   "id": "446dc82b",
   "metadata": {},
   "outputs": [],
   "source": [
    " "
   ]
  },
  {
   "cell_type": "markdown",
   "id": "9ddf5e92",
   "metadata": {},
   "source": [
    "# Now, Lets see, total Price range of various Models of car_brands ,from the given dataset, using Seaborn Boxplot."
   ]
  },
  {
   "cell_type": "code",
   "execution_count": 162,
   "id": "dc54a68c",
   "metadata": {},
   "outputs": [
    {
     "data": {
      "text/plain": [
       "(array([ 0,  1,  2,  3,  4,  5,  6,  7,  8,  9, 10, 11, 12, 13, 14, 15, 16,\n",
       "        17, 18, 19, 20, 21, 22, 23, 24, 25, 26, 27, 28, 29, 30, 31, 32, 33,\n",
       "        34, 35, 36, 37, 38, 39, 40, 41, 42, 43, 44, 45, 46, 47, 48, 49]),\n",
       " [Text(0, 0, 'Nissan Micra'),\n",
       "  Text(1, 0, 'Maruti A Star'),\n",
       "  Text(2, 0, 'Maruti Alto 800'),\n",
       "  Text(3, 0, 'Hyundai Santro Xing'),\n",
       "  Text(4, 0, 'Hyundai Eon'),\n",
       "  Text(5, 0, 'Maruti Wagon R 1.0'),\n",
       "  Text(6, 0, 'Hyundai i10'),\n",
       "  Text(7, 0, 'Toyota Corolla Altis'),\n",
       "  Text(8, 0, 'Maruti Alto K10'),\n",
       "  Text(9, 0, 'Maruti Ritz'),\n",
       "  Text(10, 0, 'Hyundai i20'),\n",
       "  Text(11, 0, 'Toyota Etios Liva'),\n",
       "  Text(12, 0, 'Mahindra Kuv100'),\n",
       "  Text(13, 0, 'Renault Kwid'),\n",
       "  Text(14, 0, 'Maruti Swift Dzire'),\n",
       "  Text(15, 0, 'Honda Brio'),\n",
       "  Text(16, 0, 'Maruti Alto'),\n",
       "  Text(17, 0, 'Volkswagen Ameo'),\n",
       "  Text(18, 0, 'Tata Tiago'),\n",
       "  Text(19, 0, 'Hyundai NEW SANTRO'),\n",
       "  Text(20, 0, 'Maruti IGNIS'),\n",
       "  Text(21, 0, 'Maruti Celerio'),\n",
       "  Text(22, 0, 'Maruti Eeco'),\n",
       "  Text(23, 0, 'Hyundai Grand i10'),\n",
       "  Text(24, 0, 'Volkswagen Polo'),\n",
       "  Text(25, 0, 'Hyundai Elite i20'),\n",
       "  Text(26, 0, 'Ford Ecosport'),\n",
       "  Text(27, 0, 'Hyundai GRAND I10 NIOS'),\n",
       "  Text(28, 0, 'Maruti New Wagon-R'),\n",
       "  Text(29, 0, 'Renault TRIBER'),\n",
       "  Text(30, 0, 'Maruti Swift'),\n",
       "  Text(31, 0, 'Maruti Dzire'),\n",
       "  Text(32, 0, 'Honda Amaze'),\n",
       "  Text(33, 0, 'Maruti Baleno'),\n",
       "  Text(34, 0, 'Ford Figo Aspire'),\n",
       "  Text(35, 0, 'Honda City'),\n",
       "  Text(36, 0, 'Tata ALTROZ'),\n",
       "  Text(37, 0, 'Maruti Ertiga'),\n",
       "  Text(38, 0, 'Tata NEXON'),\n",
       "  Text(39, 0, 'Renault Kiger'),\n",
       "  Text(40, 0, 'Hyundai AURA'),\n",
       "  Text(41, 0, 'Maruti Ciaz'),\n",
       "  Text(42, 0, 'Nissan MAGNITE'),\n",
       "  Text(43, 0, 'Toyota YARIS'),\n",
       "  Text(44, 0, 'Maruti Vitara Brezza'),\n",
       "  Text(45, 0, 'Hyundai Verna'),\n",
       "  Text(46, 0, 'Hyundai VENUE'),\n",
       "  Text(47, 0, 'Maruti S Cross'),\n",
       "  Text(48, 0, 'Hyundai NEW I20'),\n",
       "  Text(49, 0, 'Hyundai NEW I20 N LINE')])"
      ]
     },
     "execution_count": 162,
     "metadata": {},
     "output_type": "execute_result"
    },
    {
     "data": {
      "image/png": "[encoded data removed]",
      "text/plain": [
       "<Figure size 1440x432 with 1 Axes>"
      ]
     },
     "metadata": {
      "needs_background": "light"
     },
     "output_type": "display_data"
    }
   ],
   "source": [
    "plt.figure(figsize=(20,6))\n",
    "sorted_nb = data.groupby(['car_brand'])['total price'].median().sort_values()[0:50]\n",
    "sns.boxplot(x=data['car_brand'], y=data['total price'], order=list(sorted_nb.index))\n",
    "plt.xticks(rotation=70)"
   ]
  },
  {
   "cell_type": "code",
   "execution_count": 163,
   "id": "7f7ffcd2",
   "metadata": {},
   "outputs": [
    {
     "data": {
      "text/plain": [
       "(array([ 0,  1,  2,  3,  4,  5,  6,  7,  8,  9, 10, 11, 12, 13, 14, 15, 16,\n",
       "        17, 18, 19]),\n",
       " [Text(0, 0, 'Mahindra BOLERO NEO'),\n",
       "  Text(1, 0, 'Hyundai Creta'),\n",
       "  Text(2, 0, 'Mahindra XUV500'),\n",
       "  Text(3, 0, 'Jeep Compass'),\n",
       "  Text(4, 0, 'BMW 3 Series'),\n",
       "  Text(5, 0, 'KIA SONET'),\n",
       "  Text(6, 0, 'KIA SELTOS'),\n",
       "  Text(7, 0, 'Skoda Octavia'),\n",
       "  Text(8, 0, 'SKODA SLAVIA'),\n",
       "  Text(9, 0, 'Skoda KUSHAQ'),\n",
       "  Text(10, 0, 'Volkswagen TAIGUN'),\n",
       "  Text(11, 0, 'Jaguar XF'),\n",
       "  Text(12, 0, 'Mahindra Thar'),\n",
       "  Text(13, 0, 'MG HECTOR'),\n",
       "  Text(14, 0, 'Tata Safari'),\n",
       "  Text(15, 0, 'Tata Harrier'),\n",
       "  Text(16, 0, 'Skoda SLAVIA'),\n",
       "  Text(17, 0, 'Mercedes Benz C Class'),\n",
       "  Text(18, 0, 'Hyundai ALCAZAR'),\n",
       "  Text(19, 0, 'Volkswagen TIGUAN')])"
      ]
     },
     "execution_count": 163,
     "metadata": {},
     "output_type": "execute_result"
    },
    {
     "data": {
      "image/png": "[encoded data removed]",
      "text/plain": [
       "<Figure size 1440x432 with 1 Axes>"
      ]
     },
     "metadata": {
      "needs_background": "light"
     },
     "output_type": "display_data"
    }
   ],
   "source": [
    "plt.figure(figsize=(20,6))\n",
    "sorted_nb = data.groupby(['car_brand'])['total price'].median().sort_values()[50:100]\n",
    "sns.boxplot(x=data['car_brand'], y=data['total price'], order=list(sorted_nb.index))\n",
    "plt.xticks(rotation=70)"
   ]
  },
  {
   "cell_type": "code",
   "execution_count": null,
   "id": "0b4a5e97",
   "metadata": {},
   "outputs": [],
   "source": [
    "# from the above boxplot we can conclude that manual type cars are hghly driven "
   ]
  },
  {
   "cell_type": "code",
   "execution_count": 109,
   "id": "66140533",
   "metadata": {},
   "outputs": [
    {
     "data": {
      "text/plain": [
       "(array([0, 1]), [Text(0, 0, 'Petrol'), Text(1, 0, 'Diesel')])"
      ]
     },
     "execution_count": 109,
     "metadata": {},
     "output_type": "execute_result"
    },
    {
     "data": {
      "image/png": "[encoded data removed]",
      "text/plain": [
       "<Figure size 1440x432 with 1 Axes>"
      ]
     },
     "metadata": {
      "needs_background": "light"
     },
     "output_type": "display_data"
    }
   ],
   "source": [
    "plt.figure(figsize=(20,6))\n",
    "sorted_nb = data.groupby(['fuel_type'])['kilometers_driven'].median().sort_values()\n",
    "sns.boxplot(x=data['fuel_type'], y=data['kilometers_driven'], order=list(sorted_nb.index))\n",
    "plt.xticks(rotation=70)"
   ]
  },
  {
   "cell_type": "code",
   "execution_count": null,
   "id": "8e698795",
   "metadata": {},
   "outputs": [],
   "source": [
    "# from the above boxplot we can conclude that diesel type cars are hghly driven  than petrol"
   ]
  },
  {
   "cell_type": "code",
   "execution_count": null,
   "id": "18feb321",
   "metadata": {},
   "outputs": [],
   "source": []
  },
  {
   "cell_type": "code",
   "execution_count": 138,
   "id": "19964d29",
   "metadata": {},
   "outputs": [
    {
     "data": {
      "text/plain": [
       "2021    54\n",
       "2019    51\n",
       "2020    51\n",
       "2018    48\n",
       "2022    32\n",
       "2017    30\n",
       "2011    26\n",
       "2015    26\n",
       "2016    24\n",
       "2012    19\n",
       "2014    15\n",
       "2013    14\n",
       "2010     7\n",
       "2009     3\n",
       "Name: year, dtype: int64"
      ]
     },
     "execution_count": 138,
     "metadata": {},
     "output_type": "execute_result"
    }
   ],
   "source": [
    "x= data.year.value_counts()\n",
    "x"
   ]
  },
  {
   "cell_type": "code",
   "execution_count": 144,
   "id": "1f5f39df",
   "metadata": {},
   "outputs": [
    {
     "data": {
      "text/plain": [
       "([<matplotlib.patches.Wedge at 0x189b5342d90>,\n",
       "  <matplotlib.patches.Wedge at 0x189b534b760>,\n",
       "  <matplotlib.patches.Wedge at 0x189b5356130>,\n",
       "  <matplotlib.patches.Wedge at 0x189b5356ac0>,\n",
       "  <matplotlib.patches.Wedge at 0x189b5363490>,\n",
       "  <matplotlib.patches.Wedge at 0x189b5363e20>,\n",
       "  <matplotlib.patches.Wedge at 0x189b5342790>,\n",
       "  <matplotlib.patches.Wedge at 0x189b537c190>,\n",
       "  <matplotlib.patches.Wedge at 0x189b537cb20>,\n",
       "  <matplotlib.patches.Wedge at 0x189b538a4f0>,\n",
       "  <matplotlib.patches.Wedge at 0x189b538ae80>,\n",
       "  <matplotlib.patches.Wedge at 0x189b5397850>,\n",
       "  <matplotlib.patches.Wedge at 0x189b53a4220>,\n",
       "  <matplotlib.patches.Wedge at 0x189b53a4bb0>],\n",
       " [Text(1.0025435966702962, 0.4526658113613028, '2021'),\n",
       "  Text(0.34812463654492176, 1.0434602232143142, '2019'),\n",
       "  Text(-0.5070718229563135, 0.9761547860681528, '2020'),\n",
       "  Text(-1.0461621663333946, 0.339918698709881, '2018'),\n",
       "  Text(-1.046162174289766, -0.3399186742226877, '2022'),\n",
       "  Text(-0.765504088085053, -0.7899389160720414, '2017'),\n",
       "  Text(-0.3563091736591157, -1.0406938900398899, '2011'),\n",
       "  Text(0.08630497449904362, -1.0966090695305777, '2015'),\n",
       "  Text(0.49938951071369164, -0.9801071964785995, '2016'),\n",
       "  Text(0.7959267222738875, -0.7592764007727003, '2012'),\n",
       "  Text(0.9680696056238567, -0.5223420705507751, '2014'),\n",
       "  Text(1.061013149297242, -0.29026039519429464, '2013'),\n",
       "  Text(1.0942713517652845, -0.11211694209965384, '2010'),\n",
       "  Text(1.0996946722677208, -0.02591578256565992, '2009')],\n",
       " [Text(0.5468419618201615, 0.2469086243788924, '13%'),\n",
       "  Text(0.18988616538813913, 0.5691601217532621, '12%'),\n",
       "  Text(-0.2765846307034437, 0.5324480651280833, '12%'),\n",
       "  Text(-0.5706339089091244, 0.18541019929629873, '11%'),\n",
       "  Text(-0.5706339132489632, -0.1854101859396478, '7%'),\n",
       "  Text(-0.4175476844100289, -0.4308757724029316, '7%'),\n",
       "  Text(-0.1943504583595176, -0.5676512127490307, '6%'),\n",
       "  Text(0.047075440635841966, -0.5981504015621333, '6%'),\n",
       "  Text(0.2723942785711045, -0.5346039253519632, '5%'),\n",
       "  Text(0.4341418485130295, -0.41415076405783646, '4%'),\n",
       "  Text(0.5280379667039218, -0.2849138566640591, '3%'),\n",
       "  Text(0.578734445071223, -0.15832385192416068, '3%'),\n",
       "  Text(0.5968752827810642, -0.06115469569072027, '1%'),\n",
       "  Text(0.5998334576005748, -0.014135881399450864, '0%')])"
      ]
     },
     "execution_count": 144,
     "metadata": {},
     "output_type": "execute_result"
    },
    {
     "data": {
      "image/png": "[encoded data removed]",
      "text/plain": [
       "<Figure size 2880x720 with 1 Axes>"
      ]
     },
     "metadata": {},
     "output_type": "display_data"
    }
   ],
   "source": [
    "plt.figure(figsize=(40,10))\n",
    "labels=[2021,2019,2020,2018,2022,2017,2011,2015,2016,2012,2014,2013,2010,2009]\n",
    "plt.title('years')\n",
    "plt.legend('labels')\n",
    "plt.pie(x,labels=labels,autopct='%i%%',colors=['blue','green','yellow','orange','pink','violet'],shadow=True)"
   ]
  },
  {
   "cell_type": "code",
   "execution_count": 67,
   "id": "f50c548d",
   "metadata": {},
   "outputs": [
    {
     "data": {
      "image/png": "[encoded data removed]",
      "text/plain": [
       "<Figure size 648x648 with 2 Axes>"
      ]
     },
     "metadata": {
      "needs_background": "light"
     },
     "output_type": "display_data"
    }
   ],
   "source": [
    "plt.figure(figsize=(9,9))\n",
    "sns.heatmap(data.corr(),annot=True)\n",
    "plt.show()\n",
    "#heat map is given for numerical values\n"
   ]
  },
  {
   "cell_type": "code",
   "execution_count": 68,
   "id": "6e53e72c",
   "metadata": {},
   "outputs": [
    {
     "data": {
      "text/html": [
       "<div>\n",
       "<style scoped>\n",
       "    .dataframe tbody tr th:only-of-type {\n",
       "        vertical-align: middle;\n",
       "    }\n",
       "\n",
       "    .dataframe tbody tr th {\n",
       "        vertical-align: top;\n",
       "    }\n",
       "\n",
       "    .dataframe thead th {\n",
       "        text-align: right;\n",
       "    }\n",
       "</style>\n",
       "<table border=\"1\" class=\"dataframe\">\n",
       "  <thead>\n",
       "    <tr style=\"text-align: right;\">\n",
       "      <th></th>\n",
       "      <th>car_brand</th>\n",
       "      <th>car_model</th>\n",
       "      <th>year</th>\n",
       "      <th>fuel_type</th>\n",
       "      <th>transmission_type</th>\n",
       "      <th>owner</th>\n",
       "      <th>reg_state</th>\n",
       "      <th>kilometers_driven</th>\n",
       "      <th>emi</th>\n",
       "      <th>total price</th>\n",
       "    </tr>\n",
       "  </thead>\n",
       "  <tbody>\n",
       "    <tr>\n",
       "      <th>0</th>\n",
       "      <td>Maruti Swift</td>\n",
       "      <td>LXI</td>\n",
       "      <td>2019</td>\n",
       "      <td>Petrol</td>\n",
       "      <td>Manual</td>\n",
       "      <td>2nd</td>\n",
       "      <td>DL-5C</td>\n",
       "      <td>11404</td>\n",
       "      <td>10596</td>\n",
       "      <td>541999</td>\n",
       "    </tr>\n",
       "    <tr>\n",
       "      <th>1</th>\n",
       "      <td>Hyundai Grand i10</td>\n",
       "      <td>SPORTZ</td>\n",
       "      <td>2018</td>\n",
       "      <td>Petrol</td>\n",
       "      <td>Manual</td>\n",
       "      <td>2nd</td>\n",
       "      <td>UP-16</td>\n",
       "      <td>6875</td>\n",
       "      <td>10418</td>\n",
       "      <td>532899</td>\n",
       "    </tr>\n",
       "    <tr>\n",
       "      <th>2</th>\n",
       "      <td>Maruti Swift</td>\n",
       "      <td>LXI</td>\n",
       "      <td>2020</td>\n",
       "      <td>Petrol</td>\n",
       "      <td>Manual</td>\n",
       "      <td>2nd</td>\n",
       "      <td>HR-51</td>\n",
       "      <td>16633</td>\n",
       "      <td>11304</td>\n",
       "      <td>578199</td>\n",
       "    </tr>\n",
       "    <tr>\n",
       "      <th>3</th>\n",
       "      <td>Maruti Swift</td>\n",
       "      <td>VXI</td>\n",
       "      <td>2020</td>\n",
       "      <td>Petrol</td>\n",
       "      <td>Manual</td>\n",
       "      <td>1st</td>\n",
       "      <td>DL-6C</td>\n",
       "      <td>3152</td>\n",
       "      <td>13083</td>\n",
       "      <td>669199</td>\n",
       "    </tr>\n",
       "    <tr>\n",
       "      <th>4</th>\n",
       "      <td>Hyundai i10</td>\n",
       "      <td>ERA</td>\n",
       "      <td>2009</td>\n",
       "      <td>Petrol</td>\n",
       "      <td>Manual</td>\n",
       "      <td>1st</td>\n",
       "      <td>UP-16</td>\n",
       "      <td>45140</td>\n",
       "      <td>3337</td>\n",
       "      <td>170699</td>\n",
       "    </tr>\n",
       "    <tr>\n",
       "      <th>...</th>\n",
       "      <td>...</td>\n",
       "      <td>...</td>\n",
       "      <td>...</td>\n",
       "      <td>...</td>\n",
       "      <td>...</td>\n",
       "      <td>...</td>\n",
       "      <td>...</td>\n",
       "      <td>...</td>\n",
       "      <td>...</td>\n",
       "      <td>...</td>\n",
       "    </tr>\n",
       "    <tr>\n",
       "      <th>395</th>\n",
       "      <td>Hyundai Grand i10</td>\n",
       "      <td>SPORTZ</td>\n",
       "      <td>2015</td>\n",
       "      <td>Diesel</td>\n",
       "      <td>Manual</td>\n",
       "      <td>1st</td>\n",
       "      <td>RJ-06</td>\n",
       "      <td>82590</td>\n",
       "      <td>7804</td>\n",
       "      <td>399199</td>\n",
       "    </tr>\n",
       "    <tr>\n",
       "      <th>396</th>\n",
       "      <td>Maruti Swift</td>\n",
       "      <td>VXI</td>\n",
       "      <td>2018</td>\n",
       "      <td>Petrol</td>\n",
       "      <td>Manual</td>\n",
       "      <td>1st</td>\n",
       "      <td>RJ-02</td>\n",
       "      <td>83770</td>\n",
       "      <td>11675</td>\n",
       "      <td>597199</td>\n",
       "    </tr>\n",
       "    <tr>\n",
       "      <th>397</th>\n",
       "      <td>Hyundai Grand i10</td>\n",
       "      <td>MAGNA</td>\n",
       "      <td>2018</td>\n",
       "      <td>Petrol</td>\n",
       "      <td>Manual</td>\n",
       "      <td>1st</td>\n",
       "      <td>RJ-45</td>\n",
       "      <td>54392</td>\n",
       "      <td>9280</td>\n",
       "      <td>474699</td>\n",
       "    </tr>\n",
       "    <tr>\n",
       "      <th>398</th>\n",
       "      <td>Honda Brio</td>\n",
       "      <td>1.2</td>\n",
       "      <td>2016</td>\n",
       "      <td>Petrol</td>\n",
       "      <td>Manual</td>\n",
       "      <td>1st</td>\n",
       "      <td>RJ-02</td>\n",
       "      <td>89706</td>\n",
       "      <td>7898</td>\n",
       "      <td>403999</td>\n",
       "    </tr>\n",
       "    <tr>\n",
       "      <th>399</th>\n",
       "      <td>Maruti New Wagon-R</td>\n",
       "      <td>VXI</td>\n",
       "      <td>2021</td>\n",
       "      <td>Petrol</td>\n",
       "      <td>Manual</td>\n",
       "      <td>1st</td>\n",
       "      <td>RJ-45</td>\n",
       "      <td>31540</td>\n",
       "      <td>11495</td>\n",
       "      <td>587999</td>\n",
       "    </tr>\n",
       "  </tbody>\n",
       "</table>\n",
       "<p>400 rows × 10 columns</p>\n",
       "</div>"
      ],
      "text/plain": [
       "              car_brand car_model  year fuel_type transmission_type owner  \\\n",
       "0          Maruti Swift       LXI  2019    Petrol            Manual   2nd   \n",
       "1     Hyundai Grand i10    SPORTZ  2018    Petrol            Manual   2nd   \n",
       "2          Maruti Swift       LXI  2020    Petrol            Manual   2nd   \n",
       "3          Maruti Swift       VXI  2020    Petrol            Manual   1st   \n",
       "4           Hyundai i10       ERA  2009    Petrol            Manual   1st   \n",
       "..                  ...       ...   ...       ...               ...   ...   \n",
       "395   Hyundai Grand i10    SPORTZ  2015    Diesel            Manual   1st   \n",
       "396        Maruti Swift       VXI  2018    Petrol            Manual   1st   \n",
       "397   Hyundai Grand i10     MAGNA  2018    Petrol            Manual   1st   \n",
       "398          Honda Brio       1.2  2016    Petrol            Manual   1st   \n",
       "399  Maruti New Wagon-R       VXI  2021    Petrol            Manual   1st   \n",
       "\n",
       "    reg_state  kilometers_driven    emi  total price  \n",
       "0       DL-5C              11404  10596       541999  \n",
       "1       UP-16               6875  10418       532899  \n",
       "2       HR-51              16633  11304       578199  \n",
       "3       DL-6C               3152  13083       669199  \n",
       "4       UP-16              45140   3337       170699  \n",
       "..        ...                ...    ...          ...  \n",
       "395     RJ-06              82590   7804       399199  \n",
       "396     RJ-02              83770  11675       597199  \n",
       "397     RJ-45              54392   9280       474699  \n",
       "398     RJ-02              89706   7898       403999  \n",
       "399     RJ-45              31540  11495       587999  \n",
       "\n",
       "[400 rows x 10 columns]"
      ]
     },
     "execution_count": 68,
     "metadata": {},
     "output_type": "execute_result"
    }
   ],
   "source": [
    "data"
   ]
  },
  {
   "cell_type": "code",
   "execution_count": null,
   "id": "6a3a28c1",
   "metadata": {},
   "outputs": [],
   "source": []
  },
  {
   "cell_type": "code",
   "execution_count": null,
   "id": "25f3d26d",
   "metadata": {},
   "outputs": [],
   "source": []
  },
  {
   "cell_type": "code",
   "execution_count": null,
   "id": "363b00cc",
   "metadata": {},
   "outputs": [],
   "source": []
  },
  {
   "cell_type": "code",
   "execution_count": null,
   "id": "795e6485",
   "metadata": {},
   "outputs": [],
   "source": []
  },
  {
   "cell_type": "code",
   "execution_count": null,
   "id": "50cdd2d6",
   "metadata": {},
   "outputs": [],
   "source": []
  },
  {
   "cell_type": "markdown",
   "id": "cbc1f1d2",
   "metadata": {},
   "source": [
    "# univarient analysis"
   ]
  },
  {
   "cell_type": "code",
   "execution_count": 70,
   "id": "e2a0ec7c",
   "metadata": {},
   "outputs": [
    {
     "data": {
      "text/plain": [
       "<AxesSubplot:>"
      ]
     },
     "execution_count": 70,
     "metadata": {},
     "output_type": "execute_result"
    },
    {
     "data": {
      "image/png": "[encoded data removed]",
      "text/plain": [
       "<Figure size 2160x576 with 1 Axes>"
      ]
     },
     "metadata": {
      "needs_background": "light"
     },
     "output_type": "display_data"
    }
   ],
   "source": [
    "plt.figure(figsize=(30,8))\n",
    "data[\"car_model\"][0:10].value_counts().plot.bar()"
   ]
  },
  {
   "cell_type": "code",
   "execution_count": null,
   "id": "855f54b2",
   "metadata": {},
   "outputs": [],
   "source": []
  },
  {
   "cell_type": "code",
   "execution_count": 122,
   "id": "321f0ae9",
   "metadata": {},
   "outputs": [
    {
     "data": {
      "text/plain": [
       "<AxesSubplot:xlabel='reg_state', ylabel='count'>"
      ]
     },
     "execution_count": 122,
     "metadata": {},
     "output_type": "execute_result"
    },
    {
     "data": {
      "image/png": "[encoded data removed]",
      "text/plain": [
       "<Figure size 432x288 with 1 Axes>"
      ]
     },
     "metadata": {
      "needs_background": "light"
     },
     "output_type": "display_data"
    }
   ],
   "source": [
    "sns.countplot(x=data['reg_state'][0:20],data=data)\n",
    "#In the above count plot up-16 is the state having highest no of cars to be selBy their owners\n"
   ]
  },
  {
   "cell_type": "code",
   "execution_count": 158,
   "id": "1e3654b8",
   "metadata": {},
   "outputs": [
    {
     "ename": "TypeError",
     "evalue": "'Series' object is not callable",
     "output_type": "error",
     "traceback": [
      "\u001b[1;31m---------------------------------------------------------------------------\u001b[0m",
      "\u001b[1;31mTypeError\u001b[0m                                 Traceback (most recent call last)",
      "Input \u001b[1;32mIn [158]\u001b[0m, in \u001b[0;36m<cell line: 4>\u001b[1;34m()\u001b[0m\n\u001b[0;32m      2\u001b[0m plt\u001b[38;5;241m.\u001b[39mbar(data[\u001b[38;5;124m'\u001b[39m\u001b[38;5;124myear\u001b[39m\u001b[38;5;124m'\u001b[39m],data[\u001b[38;5;124m'\u001b[39m\u001b[38;5;124mtotal price\u001b[39m\u001b[38;5;124m'\u001b[39m],color\u001b[38;5;241m=\u001b[39m\u001b[38;5;124m'\u001b[39m\u001b[38;5;124myellow\u001b[39m\u001b[38;5;124m'\u001b[39m,edgecolor\u001b[38;5;241m=\u001b[39m\u001b[38;5;124m'\u001b[39m\u001b[38;5;124mgreen\u001b[39m\u001b[38;5;124m'\u001b[39m)\n\u001b[0;32m      3\u001b[0m plt\u001b[38;5;241m.\u001b[39mtitle(\u001b[38;5;124m\"\u001b[39m\u001b[38;5;124myear vs total price\u001b[39m\u001b[38;5;124m\"\u001b[39m,fontsize\u001b[38;5;241m=\u001b[39m\u001b[38;5;241m20\u001b[39m)\n\u001b[1;32m----> 4\u001b[0m \u001b[43mplt\u001b[49m\u001b[38;5;241;43m.\u001b[39;49m\u001b[43mxlabel\u001b[49m\u001b[43m(\u001b[49m\u001b[38;5;124;43m'\u001b[39;49m\u001b[38;5;124;43myear\u001b[39;49m\u001b[38;5;124;43m'\u001b[39;49m\u001b[43m)\u001b[49m\n\u001b[0;32m      5\u001b[0m plt\u001b[38;5;241m.\u001b[39mylabel(\u001b[38;5;124m'\u001b[39m\u001b[38;5;124mtotal price\u001b[39m\u001b[38;5;124m'\u001b[39m)\n\u001b[0;32m      6\u001b[0m plt\u001b[38;5;241m.\u001b[39mshow()\n",
      "\u001b[1;31mTypeError\u001b[0m: 'Series' object is not callable"
     ]
    },
    {
     "data": {
      "image/png": "[encoded data removed]",
      "text/plain": [
       "<Figure size 2160x720 with 1 Axes>"
      ]
     },
     "metadata": {
      "needs_background": "light"
     },
     "output_type": "display_data"
    }
   ],
   "source": [
    "plt.figure(figsize=(30,10))\n",
    "plt.bar(data['year'],data['total price'],color='yellow',edgecolor='green')\n",
    "plt.title(\"year vs total price\",fontsize=20)\n",
    "plt.xlabel('year')\n",
    "plt.ylabel('total price')\n",
    "plt.show()"
   ]
  },
  {
   "cell_type": "code",
   "execution_count": 168,
   "id": "7b877e78",
   "metadata": {},
   "outputs": [
    {
     "data": {
      "text/html": [
       "<div>\n",
       "<style scoped>\n",
       "    .dataframe tbody tr th:only-of-type {\n",
       "        vertical-align: middle;\n",
       "    }\n",
       "\n",
       "    .dataframe tbody tr th {\n",
       "        vertical-align: top;\n",
       "    }\n",
       "\n",
       "    .dataframe thead th {\n",
       "        text-align: right;\n",
       "    }\n",
       "</style>\n",
       "<table border=\"1\" class=\"dataframe\">\n",
       "  <thead>\n",
       "    <tr style=\"text-align: right;\">\n",
       "      <th></th>\n",
       "      <th>car_brand</th>\n",
       "      <th>car_model</th>\n",
       "      <th>year</th>\n",
       "      <th>fuel_type</th>\n",
       "      <th>transmission_type</th>\n",
       "      <th>owner</th>\n",
       "      <th>reg_state</th>\n",
       "      <th>kilometers_driven</th>\n",
       "      <th>emi</th>\n",
       "      <th>total price</th>\n",
       "    </tr>\n",
       "  </thead>\n",
       "  <tbody>\n",
       "    <tr>\n",
       "      <th>119</th>\n",
       "      <td>Hyundai ALCAZAR</td>\n",
       "      <td>2.0</td>\n",
       "      <td>2021</td>\n",
       "      <td>Petrol</td>\n",
       "      <td>0</td>\n",
       "      <td>1st</td>\n",
       "      <td>KA-02</td>\n",
       "      <td>3198</td>\n",
       "      <td>41272</td>\n",
       "      <td>2197799</td>\n",
       "    </tr>\n",
       "  </tbody>\n",
       "</table>\n",
       "</div>"
      ],
      "text/plain": [
       "           car_brand car_model  year fuel_type transmission_type owner  \\\n",
       "119  Hyundai ALCAZAR       2.0  2021    Petrol                 0   1st   \n",
       "\n",
       "    reg_state  kilometers_driven    emi  total price  \n",
       "119     KA-02               3198  41272      2197799  "
      ]
     },
     "execution_count": 168,
     "metadata": {},
     "output_type": "execute_result"
    }
   ],
   "source": [
    "data[data['total price']>=2197799]"
   ]
  },
  {
   "cell_type": "code",
   "execution_count": 167,
   "id": "34325b9d",
   "metadata": {},
   "outputs": [
    {
     "data": {
      "text/plain": [
       "2197799"
      ]
     },
     "execution_count": 167,
     "metadata": {},
     "output_type": "execute_result"
    }
   ],
   "source": [
    "data['total price'].max()"
   ]
  },
  {
   "cell_type": "code",
   "execution_count": 201,
   "id": "049d0630",
   "metadata": {},
   "outputs": [
    {
     "data": {
      "text/plain": [
       "152999"
      ]
     },
     "execution_count": 201,
     "metadata": {},
     "output_type": "execute_result"
    }
   ],
   "source": [
    "data['total price'].min()"
   ]
  },
  {
   "cell_type": "code",
   "execution_count": 202,
   "id": "cddcae41",
   "metadata": {},
   "outputs": [
    {
     "data": {
      "text/html": [
       "<div>\n",
       "<style scoped>\n",
       "    .dataframe tbody tr th:only-of-type {\n",
       "        vertical-align: middle;\n",
       "    }\n",
       "\n",
       "    .dataframe tbody tr th {\n",
       "        vertical-align: top;\n",
       "    }\n",
       "\n",
       "    .dataframe thead th {\n",
       "        text-align: right;\n",
       "    }\n",
       "</style>\n",
       "<table border=\"1\" class=\"dataframe\">\n",
       "  <thead>\n",
       "    <tr style=\"text-align: right;\">\n",
       "      <th></th>\n",
       "      <th>car_brand</th>\n",
       "      <th>car_model</th>\n",
       "      <th>year</th>\n",
       "      <th>fuel_type</th>\n",
       "      <th>transmission_type</th>\n",
       "      <th>owner</th>\n",
       "      <th>reg_state</th>\n",
       "      <th>kilometers_driven</th>\n",
       "      <th>emi</th>\n",
       "      <th>total price</th>\n",
       "    </tr>\n",
       "  </thead>\n",
       "  <tbody>\n",
       "    <tr>\n",
       "      <th>176</th>\n",
       "      <td>Maruti Alto</td>\n",
       "      <td>LXI</td>\n",
       "      <td>2010</td>\n",
       "      <td>Petrol</td>\n",
       "      <td>Manual</td>\n",
       "      <td>1st</td>\n",
       "      <td>WB-20</td>\n",
       "      <td>22973</td>\n",
       "      <td>2991</td>\n",
       "      <td>152999</td>\n",
       "    </tr>\n",
       "  </tbody>\n",
       "</table>\n",
       "</div>"
      ],
      "text/plain": [
       "       car_brand car_model  year fuel_type transmission_type owner reg_state  \\\n",
       "176  Maruti Alto       LXI  2010    Petrol            Manual   1st     WB-20   \n",
       "\n",
       "     kilometers_driven   emi  total price  \n",
       "176              22973  2991       152999  "
      ]
     },
     "execution_count": 202,
     "metadata": {},
     "output_type": "execute_result"
    }
   ],
   "source": [
    "data[data['total price']<=152999]"
   ]
  },
  {
   "cell_type": "code",
   "execution_count": 194,
   "id": "f894471a",
   "metadata": {},
   "outputs": [
    {
     "data": {
      "text/plain": [
       "Manual       288\n",
       "Automatic     33\n",
       "0             23\n",
       "CVT           10\n",
       "A/T            1\n",
       "Name: transmission_type, dtype: int64"
      ]
     },
     "execution_count": 194,
     "metadata": {},
     "output_type": "execute_result"
    }
   ],
   "source": [
    "data['transmission_type'].value_counts()"
   ]
  },
  {
   "cell_type": "code",
   "execution_count": 195,
   "id": "0b972164",
   "metadata": {},
   "outputs": [
    {
     "data": {
      "text/html": [
       "<div>\n",
       "<style scoped>\n",
       "    .dataframe tbody tr th:only-of-type {\n",
       "        vertical-align: middle;\n",
       "    }\n",
       "\n",
       "    .dataframe tbody tr th {\n",
       "        vertical-align: top;\n",
       "    }\n",
       "\n",
       "    .dataframe thead th {\n",
       "        text-align: right;\n",
       "    }\n",
       "</style>\n",
       "<table border=\"1\" class=\"dataframe\">\n",
       "  <thead>\n",
       "    <tr style=\"text-align: right;\">\n",
       "      <th></th>\n",
       "      <th>car_brand</th>\n",
       "      <th>car_model</th>\n",
       "      <th>year</th>\n",
       "      <th>fuel_type</th>\n",
       "      <th>transmission_type</th>\n",
       "      <th>owner</th>\n",
       "      <th>reg_state</th>\n",
       "      <th>kilometers_driven</th>\n",
       "      <th>emi</th>\n",
       "      <th>total price</th>\n",
       "    </tr>\n",
       "  </thead>\n",
       "  <tbody>\n",
       "    <tr>\n",
       "      <th>0</th>\n",
       "      <td>Maruti Swift</td>\n",
       "      <td>LXI</td>\n",
       "      <td>2019</td>\n",
       "      <td>Petrol</td>\n",
       "      <td>Manual</td>\n",
       "      <td>2nd</td>\n",
       "      <td>DL-5C</td>\n",
       "      <td>11404</td>\n",
       "      <td>10484</td>\n",
       "      <td>536249</td>\n",
       "    </tr>\n",
       "    <tr>\n",
       "      <th>1</th>\n",
       "      <td>KIA SELTOS</td>\n",
       "      <td>HTK</td>\n",
       "      <td>2020</td>\n",
       "      <td>Petrol</td>\n",
       "      <td>Manual</td>\n",
       "      <td>1st</td>\n",
       "      <td>DL-11</td>\n",
       "      <td>6337</td>\n",
       "      <td>22125</td>\n",
       "      <td>1178199</td>\n",
       "    </tr>\n",
       "    <tr>\n",
       "      <th>2</th>\n",
       "      <td>Maruti Wagon R 1.0</td>\n",
       "      <td>VXI</td>\n",
       "      <td>2011</td>\n",
       "      <td>Petrol</td>\n",
       "      <td>Manual</td>\n",
       "      <td>1st</td>\n",
       "      <td>DL-9C</td>\n",
       "      <td>28876</td>\n",
       "      <td>5587</td>\n",
       "      <td>285799</td>\n",
       "    </tr>\n",
       "    <tr>\n",
       "      <th>3</th>\n",
       "      <td>Hyundai Grand i10</td>\n",
       "      <td>SPORTZ</td>\n",
       "      <td>2018</td>\n",
       "      <td>Petrol</td>\n",
       "      <td>Manual</td>\n",
       "      <td>2nd</td>\n",
       "      <td>UP-16</td>\n",
       "      <td>6875</td>\n",
       "      <td>10295</td>\n",
       "      <td>526599</td>\n",
       "    </tr>\n",
       "    <tr>\n",
       "      <th>4</th>\n",
       "      <td>Tata Nano</td>\n",
       "      <td>TWIST</td>\n",
       "      <td>2016</td>\n",
       "      <td>Petrol</td>\n",
       "      <td>Automatic</td>\n",
       "      <td>2nd</td>\n",
       "      <td>DL-1C</td>\n",
       "      <td>24580</td>\n",
       "      <td>3955</td>\n",
       "      <td>202299</td>\n",
       "    </tr>\n",
       "    <tr>\n",
       "      <th>...</th>\n",
       "      <td>...</td>\n",
       "      <td>...</td>\n",
       "      <td>...</td>\n",
       "      <td>...</td>\n",
       "      <td>...</td>\n",
       "      <td>...</td>\n",
       "      <td>...</td>\n",
       "      <td>...</td>\n",
       "      <td>...</td>\n",
       "      <td>...</td>\n",
       "    </tr>\n",
       "    <tr>\n",
       "      <th>350</th>\n",
       "      <td>Honda Brio</td>\n",
       "      <td>1.2</td>\n",
       "      <td>2019</td>\n",
       "      <td>Petrol</td>\n",
       "      <td>Manual</td>\n",
       "      <td>2nd</td>\n",
       "      <td>RJ-45</td>\n",
       "      <td>28546</td>\n",
       "      <td>8946</td>\n",
       "      <td>457599</td>\n",
       "    </tr>\n",
       "    <tr>\n",
       "      <th>351</th>\n",
       "      <td>Hyundai Grand i10</td>\n",
       "      <td>MAGNA</td>\n",
       "      <td>2015</td>\n",
       "      <td>Petrol</td>\n",
       "      <td>Manual</td>\n",
       "      <td>1st</td>\n",
       "      <td>RJ-14</td>\n",
       "      <td>42083</td>\n",
       "      <td>7509</td>\n",
       "      <td>384099</td>\n",
       "    </tr>\n",
       "    <tr>\n",
       "      <th>352</th>\n",
       "      <td>Tata Tiago</td>\n",
       "      <td>XZ</td>\n",
       "      <td>2018</td>\n",
       "      <td>Petrol</td>\n",
       "      <td>Manual</td>\n",
       "      <td>1st</td>\n",
       "      <td>RJ-14</td>\n",
       "      <td>58840</td>\n",
       "      <td>8848</td>\n",
       "      <td>452599</td>\n",
       "    </tr>\n",
       "    <tr>\n",
       "      <th>353</th>\n",
       "      <td>Maruti Swift</td>\n",
       "      <td>VXI</td>\n",
       "      <td>2017</td>\n",
       "      <td>Petrol</td>\n",
       "      <td>Manual</td>\n",
       "      <td>1st</td>\n",
       "      <td>RJ-14</td>\n",
       "      <td>66812</td>\n",
       "      <td>10104</td>\n",
       "      <td>516799</td>\n",
       "    </tr>\n",
       "    <tr>\n",
       "      <th>354</th>\n",
       "      <td>Maruti Dzire</td>\n",
       "      <td>VXI</td>\n",
       "      <td>2018</td>\n",
       "      <td>Petrol</td>\n",
       "      <td>Manual</td>\n",
       "      <td>1st</td>\n",
       "      <td>RJ-45</td>\n",
       "      <td>7916</td>\n",
       "      <td>12412</td>\n",
       "      <td>634899</td>\n",
       "    </tr>\n",
       "  </tbody>\n",
       "</table>\n",
       "<p>355 rows × 10 columns</p>\n",
       "</div>"
      ],
      "text/plain": [
       "              car_brand car_model  year fuel_type transmission_type owner  \\\n",
       "0          Maruti Swift       LXI  2019    Petrol            Manual   2nd   \n",
       "1            KIA SELTOS       HTK  2020    Petrol            Manual   1st   \n",
       "2    Maruti Wagon R 1.0       VXI  2011    Petrol            Manual   1st   \n",
       "3     Hyundai Grand i10    SPORTZ  2018    Petrol            Manual   2nd   \n",
       "4             Tata Nano     TWIST  2016    Petrol         Automatic   2nd   \n",
       "..                  ...       ...   ...       ...               ...   ...   \n",
       "350          Honda Brio       1.2  2019    Petrol            Manual   2nd   \n",
       "351   Hyundai Grand i10     MAGNA  2015    Petrol            Manual   1st   \n",
       "352          Tata Tiago        XZ  2018    Petrol            Manual   1st   \n",
       "353        Maruti Swift       VXI  2017    Petrol            Manual   1st   \n",
       "354        Maruti Dzire       VXI  2018    Petrol            Manual   1st   \n",
       "\n",
       "    reg_state  kilometers_driven    emi  total price  \n",
       "0       DL-5C              11404  10484       536249  \n",
       "1       DL-11               6337  22125      1178199  \n",
       "2       DL-9C              28876   5587       285799  \n",
       "3       UP-16               6875  10295       526599  \n",
       "4       DL-1C              24580   3955       202299  \n",
       "..        ...                ...    ...          ...  \n",
       "350     RJ-45              28546   8946       457599  \n",
       "351     RJ-14              42083   7509       384099  \n",
       "352     RJ-14              58840   8848       452599  \n",
       "353     RJ-14              66812  10104       516799  \n",
       "354     RJ-45               7916  12412       634899  \n",
       "\n",
       "[355 rows x 10 columns]"
      ]
     },
     "execution_count": 195,
     "metadata": {},
     "output_type": "execute_result"
    }
   ],
   "source": [
    "data['transmission_type']=data['transmission_type'].apply(lambda x:x.replace('0','Manual'))\n",
    "data"
   ]
  },
  {
   "cell_type": "code",
   "execution_count": 196,
   "id": "49f57149",
   "metadata": {},
   "outputs": [
    {
     "data": {
      "text/plain": [
       "Manual       311\n",
       "Automatic     33\n",
       "CVT           10\n",
       "A/T            1\n",
       "Name: transmission_type, dtype: int64"
      ]
     },
     "execution_count": 196,
     "metadata": {},
     "output_type": "execute_result"
    }
   ],
   "source": [
    "data['transmission_type'].value_counts()"
   ]
  },
  {
   "cell_type": "code",
   "execution_count": 197,
   "id": "1c14c3e7",
   "metadata": {},
   "outputs": [
    {
     "data": {
      "text/html": [
       "<div>\n",
       "<style scoped>\n",
       "    .dataframe tbody tr th:only-of-type {\n",
       "        vertical-align: middle;\n",
       "    }\n",
       "\n",
       "    .dataframe tbody tr th {\n",
       "        vertical-align: top;\n",
       "    }\n",
       "\n",
       "    .dataframe thead th {\n",
       "        text-align: right;\n",
       "    }\n",
       "</style>\n",
       "<table border=\"1\" class=\"dataframe\">\n",
       "  <thead>\n",
       "    <tr style=\"text-align: right;\">\n",
       "      <th></th>\n",
       "      <th>car_brand</th>\n",
       "      <th>car_model</th>\n",
       "      <th>year</th>\n",
       "      <th>fuel_type</th>\n",
       "      <th>transmission_type</th>\n",
       "      <th>owner</th>\n",
       "      <th>reg_state</th>\n",
       "      <th>kilometers_driven</th>\n",
       "      <th>emi</th>\n",
       "      <th>total price</th>\n",
       "    </tr>\n",
       "  </thead>\n",
       "  <tbody>\n",
       "    <tr>\n",
       "      <th>0</th>\n",
       "      <td>Maruti Swift</td>\n",
       "      <td>LXI</td>\n",
       "      <td>2019</td>\n",
       "      <td>Petrol</td>\n",
       "      <td>Manual</td>\n",
       "      <td>2nd</td>\n",
       "      <td>DL-5C</td>\n",
       "      <td>11404</td>\n",
       "      <td>10484</td>\n",
       "      <td>536249</td>\n",
       "    </tr>\n",
       "    <tr>\n",
       "      <th>1</th>\n",
       "      <td>KIA SELTOS</td>\n",
       "      <td>HTK</td>\n",
       "      <td>2020</td>\n",
       "      <td>Petrol</td>\n",
       "      <td>Manual</td>\n",
       "      <td>1st</td>\n",
       "      <td>DL-11</td>\n",
       "      <td>6337</td>\n",
       "      <td>22125</td>\n",
       "      <td>1178199</td>\n",
       "    </tr>\n",
       "    <tr>\n",
       "      <th>2</th>\n",
       "      <td>Maruti Wagon R 1.0</td>\n",
       "      <td>VXI</td>\n",
       "      <td>2011</td>\n",
       "      <td>Petrol</td>\n",
       "      <td>Manual</td>\n",
       "      <td>1st</td>\n",
       "      <td>DL-9C</td>\n",
       "      <td>28876</td>\n",
       "      <td>5587</td>\n",
       "      <td>285799</td>\n",
       "    </tr>\n",
       "    <tr>\n",
       "      <th>3</th>\n",
       "      <td>Hyundai Grand i10</td>\n",
       "      <td>SPORTZ</td>\n",
       "      <td>2018</td>\n",
       "      <td>Petrol</td>\n",
       "      <td>Manual</td>\n",
       "      <td>2nd</td>\n",
       "      <td>UP-16</td>\n",
       "      <td>6875</td>\n",
       "      <td>10295</td>\n",
       "      <td>526599</td>\n",
       "    </tr>\n",
       "    <tr>\n",
       "      <th>4</th>\n",
       "      <td>Tata Nano</td>\n",
       "      <td>TWIST</td>\n",
       "      <td>2016</td>\n",
       "      <td>Petrol</td>\n",
       "      <td>Automatic</td>\n",
       "      <td>2nd</td>\n",
       "      <td>DL-1C</td>\n",
       "      <td>24580</td>\n",
       "      <td>3955</td>\n",
       "      <td>202299</td>\n",
       "    </tr>\n",
       "    <tr>\n",
       "      <th>...</th>\n",
       "      <td>...</td>\n",
       "      <td>...</td>\n",
       "      <td>...</td>\n",
       "      <td>...</td>\n",
       "      <td>...</td>\n",
       "      <td>...</td>\n",
       "      <td>...</td>\n",
       "      <td>...</td>\n",
       "      <td>...</td>\n",
       "      <td>...</td>\n",
       "    </tr>\n",
       "    <tr>\n",
       "      <th>350</th>\n",
       "      <td>Honda Brio</td>\n",
       "      <td>1.2</td>\n",
       "      <td>2019</td>\n",
       "      <td>Petrol</td>\n",
       "      <td>Manual</td>\n",
       "      <td>2nd</td>\n",
       "      <td>RJ-45</td>\n",
       "      <td>28546</td>\n",
       "      <td>8946</td>\n",
       "      <td>457599</td>\n",
       "    </tr>\n",
       "    <tr>\n",
       "      <th>351</th>\n",
       "      <td>Hyundai Grand i10</td>\n",
       "      <td>MAGNA</td>\n",
       "      <td>2015</td>\n",
       "      <td>Petrol</td>\n",
       "      <td>Manual</td>\n",
       "      <td>1st</td>\n",
       "      <td>RJ-14</td>\n",
       "      <td>42083</td>\n",
       "      <td>7509</td>\n",
       "      <td>384099</td>\n",
       "    </tr>\n",
       "    <tr>\n",
       "      <th>352</th>\n",
       "      <td>Tata Tiago</td>\n",
       "      <td>XZ</td>\n",
       "      <td>2018</td>\n",
       "      <td>Petrol</td>\n",
       "      <td>Manual</td>\n",
       "      <td>1st</td>\n",
       "      <td>RJ-14</td>\n",
       "      <td>58840</td>\n",
       "      <td>8848</td>\n",
       "      <td>452599</td>\n",
       "    </tr>\n",
       "    <tr>\n",
       "      <th>353</th>\n",
       "      <td>Maruti Swift</td>\n",
       "      <td>VXI</td>\n",
       "      <td>2017</td>\n",
       "      <td>Petrol</td>\n",
       "      <td>Manual</td>\n",
       "      <td>1st</td>\n",
       "      <td>RJ-14</td>\n",
       "      <td>66812</td>\n",
       "      <td>10104</td>\n",
       "      <td>516799</td>\n",
       "    </tr>\n",
       "    <tr>\n",
       "      <th>354</th>\n",
       "      <td>Maruti Dzire</td>\n",
       "      <td>VXI</td>\n",
       "      <td>2018</td>\n",
       "      <td>Petrol</td>\n",
       "      <td>Manual</td>\n",
       "      <td>1st</td>\n",
       "      <td>RJ-45</td>\n",
       "      <td>7916</td>\n",
       "      <td>12412</td>\n",
       "      <td>634899</td>\n",
       "    </tr>\n",
       "  </tbody>\n",
       "</table>\n",
       "<p>355 rows × 10 columns</p>\n",
       "</div>"
      ],
      "text/plain": [
       "              car_brand car_model  year fuel_type transmission_type owner  \\\n",
       "0          Maruti Swift       LXI  2019    Petrol            Manual   2nd   \n",
       "1            KIA SELTOS       HTK  2020    Petrol            Manual   1st   \n",
       "2    Maruti Wagon R 1.0       VXI  2011    Petrol            Manual   1st   \n",
       "3     Hyundai Grand i10    SPORTZ  2018    Petrol            Manual   2nd   \n",
       "4             Tata Nano     TWIST  2016    Petrol         Automatic   2nd   \n",
       "..                  ...       ...   ...       ...               ...   ...   \n",
       "350          Honda Brio       1.2  2019    Petrol            Manual   2nd   \n",
       "351   Hyundai Grand i10     MAGNA  2015    Petrol            Manual   1st   \n",
       "352          Tata Tiago        XZ  2018    Petrol            Manual   1st   \n",
       "353        Maruti Swift       VXI  2017    Petrol            Manual   1st   \n",
       "354        Maruti Dzire       VXI  2018    Petrol            Manual   1st   \n",
       "\n",
       "    reg_state  kilometers_driven    emi  total price  \n",
       "0       DL-5C              11404  10484       536249  \n",
       "1       DL-11               6337  22125      1178199  \n",
       "2       DL-9C              28876   5587       285799  \n",
       "3       UP-16               6875  10295       526599  \n",
       "4       DL-1C              24580   3955       202299  \n",
       "..        ...                ...    ...          ...  \n",
       "350     RJ-45              28546   8946       457599  \n",
       "351     RJ-14              42083   7509       384099  \n",
       "352     RJ-14              58840   8848       452599  \n",
       "353     RJ-14              66812  10104       516799  \n",
       "354     RJ-45               7916  12412       634899  \n",
       "\n",
       "[355 rows x 10 columns]"
      ]
     },
     "execution_count": 197,
     "metadata": {},
     "output_type": "execute_result"
    }
   ],
   "source": [
    "data['transmission_type']=data['transmission_type'].apply(lambda x:x.replace('A/T','Automatic'))\n",
    "data"
   ]
  },
  {
   "cell_type": "code",
   "execution_count": 198,
   "id": "c53ffecf",
   "metadata": {
    "scrolled": false
   },
   "outputs": [
    {
     "data": {
      "text/plain": [
       "Manual       311\n",
       "Automatic     34\n",
       "CVT           10\n",
       "Name: transmission_type, dtype: int64"
      ]
     },
     "execution_count": 198,
     "metadata": {},
     "output_type": "execute_result"
    }
   ],
   "source": [
    "data['transmission_type'].value_counts()"
   ]
  },
  {
   "cell_type": "code",
   "execution_count": 199,
   "id": "3f1feacb",
   "metadata": {},
   "outputs": [
    {
     "data": {
      "text/plain": [
       "<AxesSubplot:xlabel='transmission_type', ylabel='count'>"
      ]
     },
     "execution_count": 199,
     "metadata": {},
     "output_type": "execute_result"
    },
    {
     "data": {
      "image/png": "[encoded data removed]",
      "text/plain": [
       "<Figure size 432x288 with 1 Axes>"
      ]
     },
     "metadata": {
      "needs_background": "light"
     },
     "output_type": "display_data"
    }
   ],
   "source": [
    "sns.countplot(x='transmission_type',data=data)"
   ]
  },
  {
   "cell_type": "code",
   "execution_count": 200,
   "id": "be5649de",
   "metadata": {},
   "outputs": [
    {
     "data": {
      "text/plain": [
       "(array([0, 1, 2]),\n",
       " [Text(0, 0, 'CVT'), Text(1, 0, 'Manual'), Text(2, 0, 'Automatic')])"
      ]
     },
     "execution_count": 200,
     "metadata": {},
     "output_type": "execute_result"
    },
    {
     "data": {
      "image/png": "[encoded data removed]",
      "text/plain": [
       "<Figure size 1440x432 with 1 Axes>"
      ]
     },
     "metadata": {
      "needs_background": "light"
     },
     "output_type": "display_data"
    }
   ],
   "source": [
    "plt.figure(figsize=(20,6))\n",
    "sorted_nb = data.groupby(['transmission_type'])['kilometers_driven'].median().sort_values()\n",
    "sns.boxplot(x=data['transmission_type'], y=data['kilometers_driven'], order=list(sorted_nb.index))\n",
    "plt.xticks(rotation=70)"
   ]
  },
  {
   "cell_type": "code",
   "execution_count": 230,
   "id": "2b9ed2ac",
   "metadata": {},
   "outputs": [
    {
     "name": "stdout",
     "output_type": "stream",
     "text": [
      "Please Enter how many kilometers the car has been tavelled by the 1st owner: 100000\n",
      "Please Enter for which transmission type you are looking for:Automatic\n",
      "Please Enter for which Fuel Type you are looking for:Petrol\n"
     ]
    },
    {
     "data": {
      "text/html": [
       "<div>\n",
       "<style scoped>\n",
       "    .dataframe tbody tr th:only-of-type {\n",
       "        vertical-align: middle;\n",
       "    }\n",
       "\n",
       "    .dataframe tbody tr th {\n",
       "        vertical-align: top;\n",
       "    }\n",
       "\n",
       "    .dataframe thead th {\n",
       "        text-align: right;\n",
       "    }\n",
       "</style>\n",
       "<table border=\"1\" class=\"dataframe\">\n",
       "  <thead>\n",
       "    <tr style=\"text-align: right;\">\n",
       "      <th></th>\n",
       "      <th>car_brand</th>\n",
       "      <th>car_model</th>\n",
       "      <th>year</th>\n",
       "      <th>fuel_type</th>\n",
       "      <th>transmission_type</th>\n",
       "      <th>owner</th>\n",
       "      <th>reg_state</th>\n",
       "      <th>kilometers_driven</th>\n",
       "      <th>emi</th>\n",
       "      <th>total price</th>\n",
       "    </tr>\n",
       "  </thead>\n",
       "  <tbody>\n",
       "    <tr>\n",
       "      <th>4</th>\n",
       "      <td>Tata Nano</td>\n",
       "      <td>TWIST</td>\n",
       "      <td>2016</td>\n",
       "      <td>Petrol</td>\n",
       "      <td>Automatic</td>\n",
       "      <td>2nd</td>\n",
       "      <td>DL-1C</td>\n",
       "      <td>24580</td>\n",
       "      <td>3955</td>\n",
       "      <td>202299</td>\n",
       "    </tr>\n",
       "    <tr>\n",
       "      <th>14</th>\n",
       "      <td>Mercedes Benz C Class</td>\n",
       "      <td>C</td>\n",
       "      <td>2014</td>\n",
       "      <td>Petrol</td>\n",
       "      <td>Automatic</td>\n",
       "      <td>1st</td>\n",
       "      <td>UP-16</td>\n",
       "      <td>37838</td>\n",
       "      <td>34826</td>\n",
       "      <td>1854499</td>\n",
       "    </tr>\n",
       "    <tr>\n",
       "      <th>43</th>\n",
       "      <td>MG HECTOR</td>\n",
       "      <td>SHARP</td>\n",
       "      <td>2020</td>\n",
       "      <td>Petrol</td>\n",
       "      <td>Automatic</td>\n",
       "      <td>1st</td>\n",
       "      <td>DL-8C</td>\n",
       "      <td>12803</td>\n",
       "      <td>32018</td>\n",
       "      <td>1704999</td>\n",
       "    </tr>\n",
       "    <tr>\n",
       "      <th>53</th>\n",
       "      <td>Skoda Rapid</td>\n",
       "      <td>1.0</td>\n",
       "      <td>2020</td>\n",
       "      <td>Petrol</td>\n",
       "      <td>Automatic</td>\n",
       "      <td>1st</td>\n",
       "      <td>DL-10</td>\n",
       "      <td>54698</td>\n",
       "      <td>19720</td>\n",
       "      <td>1050099</td>\n",
       "    </tr>\n",
       "    <tr>\n",
       "      <th>65</th>\n",
       "      <td>Renault Kwid</td>\n",
       "      <td>1.0</td>\n",
       "      <td>2022</td>\n",
       "      <td>Petrol</td>\n",
       "      <td>Automatic</td>\n",
       "      <td>1st</td>\n",
       "      <td>MH-05</td>\n",
       "      <td>9457</td>\n",
       "      <td>13028</td>\n",
       "      <td>666399</td>\n",
       "    </tr>\n",
       "    <tr>\n",
       "      <th>105</th>\n",
       "      <td>Volkswagen Beetle</td>\n",
       "      <td>2.0</td>\n",
       "      <td>2011</td>\n",
       "      <td>Petrol</td>\n",
       "      <td>Automatic</td>\n",
       "      <td>2nd</td>\n",
       "      <td>KA-02</td>\n",
       "      <td>13229</td>\n",
       "      <td>29175</td>\n",
       "      <td>1553599</td>\n",
       "    </tr>\n",
       "    <tr>\n",
       "      <th>108</th>\n",
       "      <td>Maruti A Star</td>\n",
       "      <td>VXI</td>\n",
       "      <td>2013</td>\n",
       "      <td>Petrol</td>\n",
       "      <td>Automatic</td>\n",
       "      <td>1st</td>\n",
       "      <td>KA-04</td>\n",
       "      <td>22227</td>\n",
       "      <td>6872</td>\n",
       "      <td>351499</td>\n",
       "    </tr>\n",
       "    <tr>\n",
       "      <th>109</th>\n",
       "      <td>Maruti Celerio</td>\n",
       "      <td>ZXI</td>\n",
       "      <td>2016</td>\n",
       "      <td>Petrol</td>\n",
       "      <td>Automatic</td>\n",
       "      <td>1st</td>\n",
       "      <td>KA-51</td>\n",
       "      <td>19330</td>\n",
       "      <td>9296</td>\n",
       "      <td>475499</td>\n",
       "    </tr>\n",
       "    <tr>\n",
       "      <th>129</th>\n",
       "      <td>Hyundai i10</td>\n",
       "      <td>SPORTZ</td>\n",
       "      <td>2012</td>\n",
       "      <td>Petrol</td>\n",
       "      <td>Automatic</td>\n",
       "      <td>3rd</td>\n",
       "      <td>AP-09</td>\n",
       "      <td>72233</td>\n",
       "      <td>7447</td>\n",
       "      <td>380899</td>\n",
       "    </tr>\n",
       "    <tr>\n",
       "      <th>130</th>\n",
       "      <td>Hyundai i10</td>\n",
       "      <td>SPORTZ</td>\n",
       "      <td>2012</td>\n",
       "      <td>Petrol</td>\n",
       "      <td>Automatic</td>\n",
       "      <td>1st</td>\n",
       "      <td>AP-28</td>\n",
       "      <td>72561</td>\n",
       "      <td>7384</td>\n",
       "      <td>377699</td>\n",
       "    </tr>\n",
       "    <tr>\n",
       "      <th>131</th>\n",
       "      <td>Hyundai i10</td>\n",
       "      <td>SPORTZ</td>\n",
       "      <td>2012</td>\n",
       "      <td>Petrol</td>\n",
       "      <td>Automatic</td>\n",
       "      <td>2nd</td>\n",
       "      <td>AP-28</td>\n",
       "      <td>46988</td>\n",
       "      <td>7580</td>\n",
       "      <td>387699</td>\n",
       "    </tr>\n",
       "    <tr>\n",
       "      <th>133</th>\n",
       "      <td>Maruti Swift</td>\n",
       "      <td>VXI</td>\n",
       "      <td>2019</td>\n",
       "      <td>Petrol</td>\n",
       "      <td>Automatic</td>\n",
       "      <td>2nd</td>\n",
       "      <td>TS-07</td>\n",
       "      <td>38989</td>\n",
       "      <td>13449</td>\n",
       "      <td>687899</td>\n",
       "    </tr>\n",
       "    <tr>\n",
       "      <th>134</th>\n",
       "      <td>Hyundai i10</td>\n",
       "      <td>SPORTZ</td>\n",
       "      <td>2012</td>\n",
       "      <td>Petrol</td>\n",
       "      <td>Automatic</td>\n",
       "      <td>2nd</td>\n",
       "      <td>AP-29</td>\n",
       "      <td>68072</td>\n",
       "      <td>7263</td>\n",
       "      <td>371499</td>\n",
       "    </tr>\n",
       "    <tr>\n",
       "      <th>137</th>\n",
       "      <td>Hyundai i10</td>\n",
       "      <td>SPORTZ</td>\n",
       "      <td>2012</td>\n",
       "      <td>Petrol</td>\n",
       "      <td>Automatic</td>\n",
       "      <td>2nd</td>\n",
       "      <td>AP-28</td>\n",
       "      <td>54545</td>\n",
       "      <td>7638</td>\n",
       "      <td>390699</td>\n",
       "    </tr>\n",
       "    <tr>\n",
       "      <th>150</th>\n",
       "      <td>Hyundai Creta</td>\n",
       "      <td>1.6</td>\n",
       "      <td>2016</td>\n",
       "      <td>Petrol</td>\n",
       "      <td>Automatic</td>\n",
       "      <td>1st</td>\n",
       "      <td>TN-01</td>\n",
       "      <td>48069</td>\n",
       "      <td>19164</td>\n",
       "      <td>1020499</td>\n",
       "    </tr>\n",
       "    <tr>\n",
       "      <th>187</th>\n",
       "      <td>Mahindra Thar</td>\n",
       "      <td>LX</td>\n",
       "      <td>2021</td>\n",
       "      <td>Petrol</td>\n",
       "      <td>Automatic</td>\n",
       "      <td>1st</td>\n",
       "      <td>GJ-05</td>\n",
       "      <td>1302</td>\n",
       "      <td>29314</td>\n",
       "      <td>1560999</td>\n",
       "    </tr>\n",
       "    <tr>\n",
       "      <th>190</th>\n",
       "      <td>Volkswagen Polo</td>\n",
       "      <td>GT</td>\n",
       "      <td>2014</td>\n",
       "      <td>Petrol</td>\n",
       "      <td>Automatic</td>\n",
       "      <td>1st</td>\n",
       "      <td>GJ-27</td>\n",
       "      <td>90040</td>\n",
       "      <td>10774</td>\n",
       "      <td>551099</td>\n",
       "    </tr>\n",
       "    <tr>\n",
       "      <th>200</th>\n",
       "      <td>Maruti Wagon R 1.0</td>\n",
       "      <td>VXI</td>\n",
       "      <td>2018</td>\n",
       "      <td>Petrol</td>\n",
       "      <td>Automatic</td>\n",
       "      <td>1st</td>\n",
       "      <td>GJ-05</td>\n",
       "      <td>6847</td>\n",
       "      <td>9099</td>\n",
       "      <td>465399</td>\n",
       "    </tr>\n",
       "    <tr>\n",
       "      <th>208</th>\n",
       "      <td>Tata Tiago</td>\n",
       "      <td>XTA</td>\n",
       "      <td>2018</td>\n",
       "      <td>Petrol</td>\n",
       "      <td>Automatic</td>\n",
       "      <td>1st</td>\n",
       "      <td>GJ-05</td>\n",
       "      <td>18384</td>\n",
       "      <td>8946</td>\n",
       "      <td>457599</td>\n",
       "    </tr>\n",
       "    <tr>\n",
       "      <th>232</th>\n",
       "      <td>Hyundai Grand i10</td>\n",
       "      <td>SPORTZ</td>\n",
       "      <td>2017</td>\n",
       "      <td>Petrol</td>\n",
       "      <td>Automatic</td>\n",
       "      <td>1st</td>\n",
       "      <td>MP-21</td>\n",
       "      <td>79116</td>\n",
       "      <td>10322</td>\n",
       "      <td>527999</td>\n",
       "    </tr>\n",
       "    <tr>\n",
       "      <th>236</th>\n",
       "      <td>Volkswagen Polo</td>\n",
       "      <td>GT</td>\n",
       "      <td>2015</td>\n",
       "      <td>Petrol</td>\n",
       "      <td>Automatic</td>\n",
       "      <td>2nd</td>\n",
       "      <td>CH-01</td>\n",
       "      <td>30855</td>\n",
       "      <td>11939</td>\n",
       "      <td>610699</td>\n",
       "    </tr>\n",
       "    <tr>\n",
       "      <th>263</th>\n",
       "      <td>Maruti Celerio</td>\n",
       "      <td>ZXI</td>\n",
       "      <td>2018</td>\n",
       "      <td>Petrol</td>\n",
       "      <td>Automatic</td>\n",
       "      <td>2nd</td>\n",
       "      <td>TN-85</td>\n",
       "      <td>46207</td>\n",
       "      <td>8929</td>\n",
       "      <td>456699</td>\n",
       "    </tr>\n",
       "    <tr>\n",
       "      <th>267</th>\n",
       "      <td>Renault Kwid</td>\n",
       "      <td>RXT</td>\n",
       "      <td>2018</td>\n",
       "      <td>Petrol</td>\n",
       "      <td>Automatic</td>\n",
       "      <td>1st</td>\n",
       "      <td>TN-01</td>\n",
       "      <td>31904</td>\n",
       "      <td>8897</td>\n",
       "      <td>455099</td>\n",
       "    </tr>\n",
       "    <tr>\n",
       "      <th>278</th>\n",
       "      <td>Maruti Swift</td>\n",
       "      <td>VXI</td>\n",
       "      <td>2019</td>\n",
       "      <td>Petrol</td>\n",
       "      <td>Automatic</td>\n",
       "      <td>2nd</td>\n",
       "      <td>HR-87</td>\n",
       "      <td>45357</td>\n",
       "      <td>11621</td>\n",
       "      <td>594399</td>\n",
       "    </tr>\n",
       "    <tr>\n",
       "      <th>279</th>\n",
       "      <td>Maruti Alto K10</td>\n",
       "      <td>VXI</td>\n",
       "      <td>2016</td>\n",
       "      <td>Petrol</td>\n",
       "      <td>Automatic</td>\n",
       "      <td>2nd</td>\n",
       "      <td>DL-3C</td>\n",
       "      <td>8626</td>\n",
       "      <td>7015</td>\n",
       "      <td>358799</td>\n",
       "    </tr>\n",
       "    <tr>\n",
       "      <th>284</th>\n",
       "      <td>Maruti Ciaz</td>\n",
       "      <td>ALPHA</td>\n",
       "      <td>2019</td>\n",
       "      <td>Petrol</td>\n",
       "      <td>Automatic</td>\n",
       "      <td>1st</td>\n",
       "      <td>HR-26</td>\n",
       "      <td>81454</td>\n",
       "      <td>15551</td>\n",
       "      <td>828099</td>\n",
       "    </tr>\n",
       "    <tr>\n",
       "      <th>290</th>\n",
       "      <td>Maruti Wagon R 1.0</td>\n",
       "      <td>VXI</td>\n",
       "      <td>2018</td>\n",
       "      <td>Petrol</td>\n",
       "      <td>Automatic</td>\n",
       "      <td>1st</td>\n",
       "      <td>HR-51</td>\n",
       "      <td>15854</td>\n",
       "      <td>9531</td>\n",
       "      <td>487499</td>\n",
       "    </tr>\n",
       "    <tr>\n",
       "      <th>310</th>\n",
       "      <td>Maruti Alto K10</td>\n",
       "      <td>VXI</td>\n",
       "      <td>2016</td>\n",
       "      <td>Petrol</td>\n",
       "      <td>Automatic</td>\n",
       "      <td>2nd</td>\n",
       "      <td>DL-3C</td>\n",
       "      <td>8626</td>\n",
       "      <td>7015</td>\n",
       "      <td>358799</td>\n",
       "    </tr>\n",
       "    <tr>\n",
       "      <th>334</th>\n",
       "      <td>MG HECTOR</td>\n",
       "      <td>SHARP</td>\n",
       "      <td>2021</td>\n",
       "      <td>Petrol</td>\n",
       "      <td>Automatic</td>\n",
       "      <td>1st</td>\n",
       "      <td>MP-04</td>\n",
       "      <td>16131</td>\n",
       "      <td>32307</td>\n",
       "      <td>1720399</td>\n",
       "    </tr>\n",
       "    <tr>\n",
       "      <th>340</th>\n",
       "      <td>Renault Kwid</td>\n",
       "      <td>1.0</td>\n",
       "      <td>2022</td>\n",
       "      <td>Petrol</td>\n",
       "      <td>Automatic</td>\n",
       "      <td>1st</td>\n",
       "      <td>RJ-45</td>\n",
       "      <td>202</td>\n",
       "      <td>11971</td>\n",
       "      <td>612299</td>\n",
       "    </tr>\n",
       "  </tbody>\n",
       "</table>\n",
       "</div>"
      ],
      "text/plain": [
       "                 car_brand car_model  year fuel_type transmission_type owner  \\\n",
       "4                Tata Nano     TWIST  2016    Petrol         Automatic   2nd   \n",
       "14   Mercedes Benz C Class         C  2014    Petrol         Automatic   1st   \n",
       "43               MG HECTOR     SHARP  2020    Petrol         Automatic   1st   \n",
       "53             Skoda Rapid       1.0  2020    Petrol         Automatic   1st   \n",
       "65            Renault Kwid       1.0  2022    Petrol         Automatic   1st   \n",
       "105      Volkswagen Beetle       2.0  2011    Petrol         Automatic   2nd   \n",
       "108          Maruti A Star       VXI  2013    Petrol         Automatic   1st   \n",
       "109         Maruti Celerio       ZXI  2016    Petrol         Automatic   1st   \n",
       "129            Hyundai i10    SPORTZ  2012    Petrol         Automatic   3rd   \n",
       "130            Hyundai i10    SPORTZ  2012    Petrol         Automatic   1st   \n",
       "131            Hyundai i10    SPORTZ  2012    Petrol         Automatic   2nd   \n",
       "133           Maruti Swift       VXI  2019    Petrol         Automatic   2nd   \n",
       "134            Hyundai i10    SPORTZ  2012    Petrol         Automatic   2nd   \n",
       "137            Hyundai i10    SPORTZ  2012    Petrol         Automatic   2nd   \n",
       "150          Hyundai Creta       1.6  2016    Petrol         Automatic   1st   \n",
       "187          Mahindra Thar        LX  2021    Petrol         Automatic   1st   \n",
       "190        Volkswagen Polo        GT  2014    Petrol         Automatic   1st   \n",
       "200     Maruti Wagon R 1.0       VXI  2018    Petrol         Automatic   1st   \n",
       "208             Tata Tiago       XTA  2018    Petrol         Automatic   1st   \n",
       "232      Hyundai Grand i10    SPORTZ  2017    Petrol         Automatic   1st   \n",
       "236        Volkswagen Polo        GT  2015    Petrol         Automatic   2nd   \n",
       "263         Maruti Celerio       ZXI  2018    Petrol         Automatic   2nd   \n",
       "267           Renault Kwid       RXT  2018    Petrol         Automatic   1st   \n",
       "278           Maruti Swift       VXI  2019    Petrol         Automatic   2nd   \n",
       "279        Maruti Alto K10       VXI  2016    Petrol         Automatic   2nd   \n",
       "284            Maruti Ciaz     ALPHA  2019    Petrol         Automatic   1st   \n",
       "290     Maruti Wagon R 1.0       VXI  2018    Petrol         Automatic   1st   \n",
       "310        Maruti Alto K10       VXI  2016    Petrol         Automatic   2nd   \n",
       "334              MG HECTOR     SHARP  2021    Petrol         Automatic   1st   \n",
       "340           Renault Kwid       1.0  2022    Petrol         Automatic   1st   \n",
       "\n",
       "    reg_state  kilometers_driven    emi  total price  \n",
       "4       DL-1C              24580   3955       202299  \n",
       "14      UP-16              37838  34826      1854499  \n",
       "43      DL-8C              12803  32018      1704999  \n",
       "53      DL-10              54698  19720      1050099  \n",
       "65      MH-05               9457  13028       666399  \n",
       "105     KA-02              13229  29175      1553599  \n",
       "108     KA-04              22227   6872       351499  \n",
       "109     KA-51              19330   9296       475499  \n",
       "129     AP-09              72233   7447       380899  \n",
       "130     AP-28              72561   7384       377699  \n",
       "131     AP-28              46988   7580       387699  \n",
       "133     TS-07              38989  13449       687899  \n",
       "134     AP-29              68072   7263       371499  \n",
       "137     AP-28              54545   7638       390699  \n",
       "150     TN-01              48069  19164      1020499  \n",
       "187     GJ-05               1302  29314      1560999  \n",
       "190     GJ-27              90040  10774       551099  \n",
       "200     GJ-05               6847   9099       465399  \n",
       "208     GJ-05              18384   8946       457599  \n",
       "232     MP-21              79116  10322       527999  \n",
       "236     CH-01              30855  11939       610699  \n",
       "263     TN-85              46207   8929       456699  \n",
       "267     TN-01              31904   8897       455099  \n",
       "278     HR-87              45357  11621       594399  \n",
       "279     DL-3C               8626   7015       358799  \n",
       "284     HR-26              81454  15551       828099  \n",
       "290     HR-51              15854   9531       487499  \n",
       "310     DL-3C               8626   7015       358799  \n",
       "334     MP-04              16131  32307      1720399  \n",
       "340     RJ-45                202  11971       612299  "
      ]
     },
     "execution_count": 230,
     "metadata": {},
     "output_type": "execute_result"
    }
   ],
   "source": [
    "x = int(input(\"Please Enter how many kilometers the car has been tavelled by the 1st owner: \"))\n",
    "y = input(\"Please Enter for which transmission type you are looking for:\")\n",
    "z = input(\"Please Enter for which Fuel Type you are looking for:\")\n",
    "a=data[data['transmission_type']==y]\n",
    "b=a[a['fuel_type']==z]\n",
    "b[b['kilometers_driven']<=x]\n",
    "# Petrol # Diesel # AutAutomaticomatic  #Manual "
   ]
  },
  {
   "cell_type": "code",
   "execution_count": 235,
   "id": "71f36b08",
   "metadata": {},
   "outputs": [
    {
     "data": {
      "text/plain": [
       "242614"
      ]
     },
     "execution_count": 235,
     "metadata": {},
     "output_type": "execute_result"
    }
   ],
   "source": [
    "data['kilometers_driven'].max()"
   ]
  },
  {
   "cell_type": "code",
   "execution_count": 237,
   "id": "8846d7ab",
   "metadata": {},
   "outputs": [
    {
     "data": {
      "text/html": [
       "<div>\n",
       "<style scoped>\n",
       "    .dataframe tbody tr th:only-of-type {\n",
       "        vertical-align: middle;\n",
       "    }\n",
       "\n",
       "    .dataframe tbody tr th {\n",
       "        vertical-align: top;\n",
       "    }\n",
       "\n",
       "    .dataframe thead th {\n",
       "        text-align: right;\n",
       "    }\n",
       "</style>\n",
       "<table border=\"1\" class=\"dataframe\">\n",
       "  <thead>\n",
       "    <tr style=\"text-align: right;\">\n",
       "      <th></th>\n",
       "      <th>car_brand</th>\n",
       "      <th>car_model</th>\n",
       "      <th>year</th>\n",
       "      <th>fuel_type</th>\n",
       "      <th>transmission_type</th>\n",
       "      <th>owner</th>\n",
       "      <th>reg_state</th>\n",
       "      <th>kilometers_driven</th>\n",
       "      <th>emi</th>\n",
       "      <th>total price</th>\n",
       "    </tr>\n",
       "  </thead>\n",
       "  <tbody>\n",
       "    <tr>\n",
       "      <th>336</th>\n",
       "      <td>Maruti Ertiga</td>\n",
       "      <td>ZDI</td>\n",
       "      <td>2017</td>\n",
       "      <td>Diesel</td>\n",
       "      <td>Manual</td>\n",
       "      <td>1st</td>\n",
       "      <td>RJ-02</td>\n",
       "      <td>242614</td>\n",
       "      <td>13806</td>\n",
       "      <td>706199</td>\n",
       "    </tr>\n",
       "  </tbody>\n",
       "</table>\n",
       "</div>"
      ],
      "text/plain": [
       "         car_brand car_model  year fuel_type transmission_type owner  \\\n",
       "336  Maruti Ertiga       ZDI  2017    Diesel            Manual   1st   \n",
       "\n",
       "    reg_state  kilometers_driven    emi  total price  \n",
       "336     RJ-02             242614  13806       706199  "
      ]
     },
     "execution_count": 237,
     "metadata": {},
     "output_type": "execute_result"
    }
   ],
   "source": [
    "data[data['kilometers_driven']==242614]"
   ]
  },
  {
   "cell_type": "code",
   "execution_count": 246,
   "id": "4855d8e8",
   "metadata": {},
   "outputs": [
    {
     "data": {
      "text/plain": [
       "Maruti Swift            59\n",
       "Hyundai i10             22\n",
       "Hyundai Grand i10       21\n",
       "Maruti Celerio          17\n",
       "Renault Kwid            17\n",
       "                        ..\n",
       "Honda Jazz               1\n",
       "Toyota Corolla Altis     1\n",
       "Volkswagen TIGUAN        1\n",
       "Tata TIGOR               1\n",
       "Maruti Dzire             1\n",
       "Name: car_brand, Length: 70, dtype: int64"
      ]
     },
     "execution_count": 246,
     "metadata": {},
     "output_type": "execute_result"
    }
   ],
   "source": [
    "data['car_brand'].value_counts()#[0:50]"
   ]
  },
  {
   "cell_type": "code",
   "execution_count": 247,
   "id": "927ac0ce",
   "metadata": {},
   "outputs": [
    {
     "data": {
      "text/plain": [
       "Maruti Swift            59\n",
       "Hyundai i10             22\n",
       "Hyundai Grand i10       21\n",
       "Maruti Celerio          17\n",
       "Renault Kwid            17\n",
       "                        ..\n",
       "Honda Jazz               1\n",
       "Toyota Corolla Altis     1\n",
       "Volkswagen TIGUAN        1\n",
       "Tata TIGOR               1\n",
       "Maruti Dzire             1\n",
       "Name: car_brand, Length: 70, dtype: int64"
      ]
     },
     "execution_count": 247,
     "metadata": {},
     "output_type": "execute_result"
    }
   ],
   "source": [
    "data['car_brand'].value_counts()#[50:70]"
   ]
  },
  {
   "cell_type": "code",
   "execution_count": 249,
   "id": "1edef94b",
   "metadata": {},
   "outputs": [
    {
     "data": {
      "text/plain": [
       "1st    274\n",
       "2nd     77\n",
       "3rd      4\n",
       "Name: owner, dtype: int64"
      ]
     },
     "execution_count": 249,
     "metadata": {},
     "output_type": "execute_result"
    }
   ],
   "source": [
    "data['owner'].value_counts()"
   ]
  },
  {
   "cell_type": "code",
   "execution_count": 250,
   "id": "7b8b4da6",
   "metadata": {},
   "outputs": [
    {
     "data": {
      "text/plain": [
       "Manual       311\n",
       "Automatic     34\n",
       "CVT           10\n",
       "Name: transmission_type, dtype: int64"
      ]
     },
     "execution_count": 250,
     "metadata": {},
     "output_type": "execute_result"
    }
   ],
   "source": [
    "data['transmission_type'].value_counts()"
   ]
  },
  {
   "cell_type": "code",
   "execution_count": 251,
   "id": "8f2c5d2b",
   "metadata": {},
   "outputs": [
    {
     "data": {
      "text/plain": [
       "Petrol    324\n",
       "Diesel     31\n",
       "Name: fuel_type, dtype: int64"
      ]
     },
     "execution_count": 251,
     "metadata": {},
     "output_type": "execute_result"
    }
   ],
   "source": [
    "data['fuel_type'].value_counts()"
   ]
  },
  {
   "cell_type": "code",
   "execution_count": 274,
   "id": "733e6a03",
   "metadata": {},
   "outputs": [
    {
     "data": {
      "text/plain": [
       "MP-04    26\n",
       "GJ-05    16\n",
       "DL-3C    12\n",
       "RJ-14    11\n",
       "HR-26    11\n",
       "         ..\n",
       "WB-14     1\n",
       "GJ-18     1\n",
       "GJ-19     1\n",
       "GJ-21     1\n",
       "RJ-07     1\n",
       "Name: reg_state, Length: 117, dtype: int64"
      ]
     },
     "execution_count": 274,
     "metadata": {},
     "output_type": "execute_result"
    }
   ],
   "source": [
    "data['reg_state'].value_counts()"
   ]
  },
  {
   "cell_type": "markdown",
   "id": "25c78355",
   "metadata": {},
   "source": [
    "# User Case"
   ]
  },
  {
   "cell_type": "code",
   "execution_count": 275,
   "id": "221b7e1c",
   "metadata": {},
   "outputs": [
    {
     "name": "stdout",
     "output_type": "stream",
     "text": [
      "Please Enter how many kilometers the car has been tavelled by the 1st owner: 5000\n",
      "Please Enter for which transmission type you are looking for:Automatic\n",
      "Please Enter for which Fuel Type you are looking for:Petrol\n"
     ]
    },
    {
     "data": {
      "text/html": [
       "<div>\n",
       "<style scoped>\n",
       "    .dataframe tbody tr th:only-of-type {\n",
       "        vertical-align: middle;\n",
       "    }\n",
       "\n",
       "    .dataframe tbody tr th {\n",
       "        vertical-align: top;\n",
       "    }\n",
       "\n",
       "    .dataframe thead th {\n",
       "        text-align: right;\n",
       "    }\n",
       "</style>\n",
       "<table border=\"1\" class=\"dataframe\">\n",
       "  <thead>\n",
       "    <tr style=\"text-align: right;\">\n",
       "      <th></th>\n",
       "      <th>car_brand</th>\n",
       "      <th>car_model</th>\n",
       "      <th>year</th>\n",
       "      <th>fuel_type</th>\n",
       "      <th>transmission_type</th>\n",
       "      <th>owner</th>\n",
       "      <th>reg_state</th>\n",
       "      <th>kilometers_driven</th>\n",
       "      <th>emi</th>\n",
       "      <th>total price</th>\n",
       "    </tr>\n",
       "  </thead>\n",
       "  <tbody>\n",
       "    <tr>\n",
       "      <th>187</th>\n",
       "      <td>Mahindra Thar</td>\n",
       "      <td>LX</td>\n",
       "      <td>2021</td>\n",
       "      <td>Petrol</td>\n",
       "      <td>Automatic</td>\n",
       "      <td>1st</td>\n",
       "      <td>GJ-05</td>\n",
       "      <td>1302</td>\n",
       "      <td>29314</td>\n",
       "      <td>1560999</td>\n",
       "    </tr>\n",
       "    <tr>\n",
       "      <th>340</th>\n",
       "      <td>Renault Kwid</td>\n",
       "      <td>1.0</td>\n",
       "      <td>2022</td>\n",
       "      <td>Petrol</td>\n",
       "      <td>Automatic</td>\n",
       "      <td>1st</td>\n",
       "      <td>RJ-45</td>\n",
       "      <td>202</td>\n",
       "      <td>11971</td>\n",
       "      <td>612299</td>\n",
       "    </tr>\n",
       "  </tbody>\n",
       "</table>\n",
       "</div>"
      ],
      "text/plain": [
       "         car_brand car_model  year fuel_type transmission_type owner  \\\n",
       "187  Mahindra Thar        LX  2021    Petrol         Automatic   1st   \n",
       "340   Renault Kwid       1.0  2022    Petrol         Automatic   1st   \n",
       "\n",
       "    reg_state  kilometers_driven    emi  total price  \n",
       "187     GJ-05               1302  29314      1560999  \n",
       "340     RJ-45                202  11971       612299  "
      ]
     },
     "execution_count": 275,
     "metadata": {},
     "output_type": "execute_result"
    }
   ],
   "source": [
    "x = int(input(\"Please Enter how many kilometers the car has been tavelled by the 1st owner: \"))\n",
    "y = input(\"Please Enter for which transmission type you are looking for:\")\n",
    "z = input(\"Please Enter for which Fuel Type you are looking for:\")\n",
    "a=data[data['transmission_type']==y]\n",
    "b=a[a['fuel_type']==z]\n",
    "b[b['kilometers_driven']<=x]\n",
    "# Petrol # Diesel \n",
    "# Automatic  #Manual "
   ]
  },
  {
   "cell_type": "code",
   "execution_count": null,
   "id": "bd488516",
   "metadata": {},
   "outputs": [],
   "source": []
  }
 ],
 "metadata": {
  "kernelspec": {
   "display_name": "Python 3 (ipykernel)",
   "language": "python",
   "name": "python3"
  },
  "language_info": {
   "codemirror_mode": {
    "name": "ipython",
    "version": 3
   },
   "file_extension": ".py",
   "mimetype": "text/x-python",
   "name": "python",
   "nbconvert_exporter": "python",
   "pygments_lexer": "ipython3",
   "version": "3.9.12"
  }
 },
 "nbformat": 4,
 "nbformat_minor": 5
}
